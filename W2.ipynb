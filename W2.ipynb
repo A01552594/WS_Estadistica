{
  "nbformat": 4,
  "nbformat_minor": 0,
  "metadata": {
    "colab": {
      "name": "W2.ipynb",
      "provenance": []
    },
    "kernelspec": {
      "name": "python3",
      "display_name": "Python 3"
    },
    "language_info": {
      "name": "python"
    }
  },
  "cells": [
    {
      "cell_type": "code",
      "source": [
        "!pip install symbulate"
      ],
      "metadata": {
        "colab": {
          "base_uri": "https://localhost:8080/"
        },
        "id": "C-g0yaIofwqF",
        "outputId": "eb1133ac-4908-42ef-a631-b100629badf0"
      },
      "execution_count": 3,
      "outputs": [
        {
          "output_type": "stream",
          "name": "stdout",
          "text": [
            "Looking in indexes: https://pypi.org/simple, https://us-python.pkg.dev/colab-wheels/public/simple/\n",
            "Collecting symbulate\n",
            "  Downloading symbulate-0.5.7-py3-none-any.whl (44 kB)\n",
            "\u001b[K     |████████████████████████████████| 44 kB 2.0 MB/s \n",
            "\u001b[?25hRequirement already satisfied: numpy in /usr/local/lib/python3.7/dist-packages (from symbulate) (1.21.6)\n",
            "Requirement already satisfied: scipy in /usr/local/lib/python3.7/dist-packages (from symbulate) (1.7.3)\n",
            "Requirement already satisfied: matplotlib in /usr/local/lib/python3.7/dist-packages (from symbulate) (3.2.2)\n",
            "Requirement already satisfied: cycler>=0.10 in /usr/local/lib/python3.7/dist-packages (from matplotlib->symbulate) (0.11.0)\n",
            "Requirement already satisfied: kiwisolver>=1.0.1 in /usr/local/lib/python3.7/dist-packages (from matplotlib->symbulate) (1.4.4)\n",
            "Requirement already satisfied: python-dateutil>=2.1 in /usr/local/lib/python3.7/dist-packages (from matplotlib->symbulate) (2.8.2)\n",
            "Requirement already satisfied: pyparsing!=2.0.4,!=2.1.2,!=2.1.6,>=2.0.1 in /usr/local/lib/python3.7/dist-packages (from matplotlib->symbulate) (3.0.9)\n",
            "Requirement already satisfied: typing-extensions in /usr/local/lib/python3.7/dist-packages (from kiwisolver>=1.0.1->matplotlib->symbulate) (4.1.1)\n",
            "Requirement already satisfied: six>=1.5 in /usr/local/lib/python3.7/dist-packages (from python-dateutil>=2.1->matplotlib->symbulate) (1.15.0)\n",
            "Installing collected packages: symbulate\n",
            "Successfully installed symbulate-0.5.7\n"
          ]
        }
      ]
    },
    {
      "cell_type": "code",
      "execution_count": 4,
      "metadata": {
        "id": "C8VbGPBxcoYO"
      },
      "outputs": [],
      "source": [
        "from symbulate import *\n",
        "#'exec(%matplotlib inline)' \n",
        "import matplotlib\n",
        "\n",
        "import matplotlib.pyplot as plt"
      ]
    },
    {
      "cell_type": "code",
      "source": [
        "# clear the plot space:\n",
        "plt.clf()\n",
        "# Define the probability type of function as uniform (probability space)\n",
        "P = Uniform(0,40)\n",
        "# Define X as a random variable of the type P (uniform)\n",
        "X =RV(P)\n",
        "# Simulate the values of X and save the in the x array: \n",
        "x=X.sim(10000)\n",
        "x.plot()\n",
        "plt.show()"
      ],
      "metadata": {
        "colab": {
          "base_uri": "https://localhost:8080/",
          "height": 269
        },
        "id": "7MuOcUAcgAdR",
        "outputId": "179cd69f-9152-4195-81c9-1e5f7d9d6610"
      },
      "execution_count": 5,
      "outputs": [
        {
          "output_type": "display_data",
          "data": {
            "text/plain": [
              "<Figure size 432x288 with 1 Axes>"
            ],
            "image/png": "[encoded data removed]"
          },
          "metadata": {
            "needs_background": "light"
          }
        }
      ]
    },
    {
      "cell_type": "code",
      "source": [
        "print(x.std())\n",
        "print(x.mean())"
      ],
      "metadata": {
        "colab": {
          "base_uri": "https://localhost:8080/"
        },
        "id": "OSKuCfuMh5LR",
        "outputId": "a05580c1-fb07-4639-bd1a-487258bf216d"
      },
      "execution_count": 6,
      "outputs": [
        {
          "output_type": "stream",
          "name": "stdout",
          "text": [
            "11.575383387496567\n",
            "20.084836689079907\n"
          ]
        }
      ]
    },
    {
      "cell_type": "markdown",
      "source": [
        "EL HISTOGRAMA NOS DICE QUE APROXIMADAMENTE TODOS LOS VALORES SE REPITEN CASI POR IGUAL, DANDONOS A ENTENDER QUE TODOS TIENEN PRACTICAMENTE LA MISMA PROBABILIDAD."
      ],
      "metadata": {
        "id": "ayF2Z97fXssy"
      }
    },
    {
      "cell_type": "code",
      "source": [
        "# Define the probability space as a vector of 25 uniform random numbers:\n",
        "P = Uniform(0,40) ** 25\n",
        "# Define XVECTOR as a vector of random variables with 25 random values \n",
        "XVECTOR =RV(P)\n",
        "# Simulate 10,000 vectors to get a matrix  \n",
        "xmatrix=XVECTOR.sim(10000)"
      ],
      "metadata": {
        "id": "5uPHFI9NgxNZ"
      },
      "execution_count": 7,
      "outputs": []
    },
    {
      "cell_type": "code",
      "source": [
        "xmatrix"
      ],
      "metadata": {
        "colab": {
          "base_uri": "https://localhost:8080/",
          "height": 270
        },
        "id": "ZQc4i-cVg04n",
        "outputId": "a1dbff22-1534-43a6-d0c9-4d89fec70a60"
      },
      "execution_count": 8,
      "outputs": [
        {
          "output_type": "execute_result",
          "data": {
            "text/plain": [
              "Index Result\n",
              "0     (32.834367189649186, 13.843179359107518, 6.989048549656038, 12.021868179825521, 8.043137776182316, ..., 29.273408953261487)\n",
              "1     (36.26577789536507, 1.4374497079269988, 26.6167928303893, 39.666554330009326, 12.428720596951033, ..., 7.49074889445867)\n",
              "2     (14.322825520031763, 3.4709573862167, 26.63611881315504, 13.224475712057902, 39.0058145540409, ..., 14.221183399278456)\n",
              "3     (1.4953372665661657, 7.972741424526806, 21.102006528989516, 17.05658998960984, 1.5354947246182693, ..., 20.364109130644785)\n",
              "4     (8.278625282948653, 1.06644998360371, 24.218202412428056, 10.617498811061964, 27.532929978109443, ..., 20.419725328276925)\n",
              "5     (38.10997159507426, 23.18879903434115, 24.425527480494857, 31.22002293693405, 23.15457680254205, ..., 36.28655555962751)\n",
              "6     (17.142549042877988, 21.764665653831187, 10.074594792184147, 6.176188100960891, 35.72171131044875, ..., 28.471294486508544)\n",
              "7     (32.88251182697964, 12.434517138694652, 17.09608002699712, 23.753771381001787, 27.11836817853023, ..., 18.59519778830211)\n",
              "8     (20.152435933607155, 7.392285516777459, 11.23761545016244, 32.91414844871811, 30.559795785032012, ..., 7.0821068073390325)\n",
              "....  .............................................................................................................................\n",
              "9999  (23.637211603655985, 18.450793686131878, 36.40222023562151, 5.227399057939315, 15.792174956144876, ..., 0.005647933876931077)"
            ],
            "text/html": [
              "\n",
              "    <table>\n",
              "      <thead>\n",
              "        <th width=\"10%\">Index</th>\n",
              "        <th width=\"90%\">Result</th>\n",
              "      </thead>\n",
              "      <tbody>\n",
              "        \n",
              "        <tr>\n",
              "          <td>0</td><td>(32.834367189649186, 13.843179359107518, 6.989048549656038, 12.021868179825521, 8.043137776182316, ....</td>\n",
              "        </tr>\n",
              "        \n",
              "        <tr>\n",
              "          <td>1</td><td>(36.26577789536507, 1.4374497079269988, 26.6167928303893, 39.666554330009326, 12.428720596951033, .....</td>\n",
              "        </tr>\n",
              "        \n",
              "        <tr>\n",
              "          <td>2</td><td>(14.322825520031763, 3.4709573862167, 26.63611881315504, 13.224475712057902, 39.0058145540409, ..., ...</td>\n",
              "        </tr>\n",
              "        \n",
              "        <tr>\n",
              "          <td>3</td><td>(1.4953372665661657, 7.972741424526806, 21.102006528989516, 17.05658998960984, 1.5354947246182693, ....</td>\n",
              "        </tr>\n",
              "        \n",
              "        <tr>\n",
              "          <td>4</td><td>(8.278625282948653, 1.06644998360371, 24.218202412428056, 10.617498811061964, 27.532929978109443, .....</td>\n",
              "        </tr>\n",
              "        \n",
              "        <tr>\n",
              "          <td>5</td><td>(38.10997159507426, 23.18879903434115, 24.425527480494857, 31.22002293693405, 23.15457680254205, ......</td>\n",
              "        </tr>\n",
              "        \n",
              "        <tr>\n",
              "          <td>6</td><td>(17.142549042877988, 21.764665653831187, 10.074594792184147, 6.176188100960891, 35.72171131044875, ....</td>\n",
              "        </tr>\n",
              "        \n",
              "        <tr>\n",
              "          <td>7</td><td>(32.88251182697964, 12.434517138694652, 17.09608002699712, 23.753771381001787, 27.11836817853023, .....</td>\n",
              "        </tr>\n",
              "        \n",
              "        <tr>\n",
              "          <td>8</td><td>(20.152435933607155, 7.392285516777459, 11.23761545016244, 32.91414844871811, 30.559795785032012, .....</td>\n",
              "        </tr>\n",
              "        <tr><td>...</td><td>...</td></tr>\n",
              "        <tr>\n",
              "          <td>9999</td><td>(23.637211603655985, 18.450793686131878, 36.40222023562151, 5.227399057939315, 15.792174956144876, ....</td>\n",
              "        </tr>\n",
              "        \n",
              "      </tbody>\n",
              "    </table>\n",
              "        "
            ]
          },
          "metadata": {},
          "execution_count": 8
        }
      ]
    },
    {
      "cell_type": "code",
      "source": [
        "# The 2nd parameter is the mathematical operation applied to each row of the random vector\n",
        "# Simulate 10,000 means of each random vector of 25 uniform distributed numbers: \n",
        "xmean = RV(P,mean).sim(10000)\n",
        "xmean"
      ],
      "metadata": {
        "colab": {
          "base_uri": "https://localhost:8080/",
          "height": 270
        },
        "id": "lNLa4G-hg4ot",
        "outputId": "fe99cde5-56ae-480b-a757-f8d90a5393eb"
      },
      "execution_count": 9,
      "outputs": [
        {
          "output_type": "execute_result",
          "data": {
            "text/plain": [
              "Index Result\n",
              "0     18.435354299900606\n",
              "1     19.93767272423105\n",
              "2     19.788945001445537\n",
              "3     16.78385974906699\n",
              "4     17.253915551098906\n",
              "5     19.309968686116637\n",
              "6     23.904622548269955\n",
              "7     19.740793712925484\n",
              "8     17.995787653538414\n",
              "....  ..................\n",
              "9999  18.720796125721122"
            ],
            "text/html": [
              "\n",
              "    <table>\n",
              "      <thead>\n",
              "        <th width=\"10%\">Index</th>\n",
              "        <th width=\"90%\">Result</th>\n",
              "      </thead>\n",
              "      <tbody>\n",
              "        \n",
              "        <tr>\n",
              "          <td>0</td><td>18.435354299900606</td>\n",
              "        </tr>\n",
              "        \n",
              "        <tr>\n",
              "          <td>1</td><td>19.93767272423105</td>\n",
              "        </tr>\n",
              "        \n",
              "        <tr>\n",
              "          <td>2</td><td>19.788945001445537</td>\n",
              "        </tr>\n",
              "        \n",
              "        <tr>\n",
              "          <td>3</td><td>16.78385974906699</td>\n",
              "        </tr>\n",
              "        \n",
              "        <tr>\n",
              "          <td>4</td><td>17.253915551098906</td>\n",
              "        </tr>\n",
              "        \n",
              "        <tr>\n",
              "          <td>5</td><td>19.309968686116637</td>\n",
              "        </tr>\n",
              "        \n",
              "        <tr>\n",
              "          <td>6</td><td>23.904622548269955</td>\n",
              "        </tr>\n",
              "        \n",
              "        <tr>\n",
              "          <td>7</td><td>19.740793712925484</td>\n",
              "        </tr>\n",
              "        \n",
              "        <tr>\n",
              "          <td>8</td><td>17.995787653538414</td>\n",
              "        </tr>\n",
              "        <tr><td>...</td><td>...</td></tr>\n",
              "        <tr>\n",
              "          <td>9999</td><td>18.720796125721122</td>\n",
              "        </tr>\n",
              "        \n",
              "      </tbody>\n",
              "    </table>\n",
              "        "
            ]
          },
          "metadata": {},
          "execution_count": 9
        }
      ]
    },
    {
      "cell_type": "code",
      "source": [
        "plt.clf()\n",
        "xmean.plot()\n",
        "plt.show()"
      ],
      "metadata": {
        "colab": {
          "base_uri": "https://localhost:8080/",
          "height": 265
        },
        "id": "TmVG0bIWg6zH",
        "outputId": "bb8b0e5c-9425-4786-df7a-fe4efac320e7"
      },
      "execution_count": 10,
      "outputs": [
        {
          "output_type": "display_data",
          "data": {
            "text/plain": [
              "<Figure size 432x288 with 1 Axes>"
            ],
            "image/png": "[encoded data removed]"
          },
          "metadata": {
            "needs_background": "light"
          }
        }
      ]
    },
    {
      "cell_type": "markdown",
      "source": [
        ""
      ],
      "metadata": {
        "id": "d60dc90HoQ4o"
      }
    },
    {
      "cell_type": "code",
      "source": [
        "print(xmean.std())\n",
        "print(xmean.mean())"
      ],
      "metadata": {
        "id": "0qo8A-mcoQXn",
        "colab": {
          "base_uri": "https://localhost:8080/"
        },
        "outputId": "4240531d-33cf-42f2-abd6-378cf266525b"
      },
      "execution_count": 11,
      "outputs": [
        {
          "output_type": "stream",
          "name": "stdout",
          "text": [
            "2.3255782509965846\n",
            "19.975155195411457\n"
          ]
        }
      ]
    },
    {
      "cell_type": "markdown",
      "source": [
        "SE PUEDE OBSERVAR TANTO EN EL HISTOGRAMA COMO EN LA DESVIACION ESTANDAR Y EL PROMEDIO QUE LOS VALORES SON MUY DISTINTOS A COMO ESTABAN ANTES DE FORMAR LOS GRUPOS Y SACAR LOS PROMEDIOS DE CADA UNO DE ELLOS.\n",
        "DE IGUAL MANERA SE PUEDE OBSERVAR QUE LA MEDIA ESTA MAS CERCA DEL PUNTO CENTRAL, DE IGUAL MANERA LA DESVIACIÓN ESTANDAR ESTA MAS CERCA DE LA TEORIACA.\n",
        "MI INTUICION ME DICE QUE TODO ESTO SE DEBE A QUE AL HACER LOS PROMEDIOS SIEMPRE SE ACERCARAN MAS AL CENTRO, POR EJEMPLO SI CAMBIARAMOS EL TAMAÑO DE LOS GRUPOS DE 25 A 100 SE NOTARIA QUE EL PROMEDIO ESTARIA MAS CERCA DEL 20"
      ],
      "metadata": {
        "id": "IELqAHdAfw8m"
      }
    },
    {
      "cell_type": "code",
      "source": [
        "plt.clf()\n",
        "xmean.plot()\n",
        "x.plot()\n",
        "plt.show()"
      ],
      "metadata": {
        "colab": {
          "base_uri": "https://localhost:8080/",
          "height": 265
        },
        "id": "x_e4M8S-oRRN",
        "outputId": "59bf9da3-2191-47ff-8aef-3f23ebf41d8f"
      },
      "execution_count": 12,
      "outputs": [
        {
          "output_type": "display_data",
          "data": {
            "text/plain": [
              "<Figure size 432x288 with 1 Axes>"
            ],
            "image/png": "[encoded data removed]"
          },
          "metadata": {
            "needs_background": "light"
          }
        }
      ]
    },
    {
      "cell_type": "markdown",
      "source": [
        "EN ESTE HISTOGRAMA SE PUEDE OBSERVAR CON MAYOR CLARIDAD LA DIFERENCIA DE CUANDO SE HACEN LOS PROMEDIOS A CUANDO NO SE HACEN"
      ],
      "metadata": {
        "id": "phaCYBdVZ2kl"
      }
    },
    {
      "cell_type": "code",
      "source": [
        "# clear the plot space:\n",
        "plt.clf()\n",
        "# Define the probability type of function as uniform (probability space)\n",
        "P = Normal(mean=20, sd=10)\n",
        "# Define Y as a random variable of the type P (normal)\n",
        "Y =RV(P)\n",
        "# Simulate 10,000 values of Y and save the in the x array: \n",
        "y=Y.sim(10000)\n",
        "y.plot()\n",
        "plt.show()"
      ],
      "metadata": {
        "colab": {
          "base_uri": "https://localhost:8080/",
          "height": 265
        },
        "id": "eAqY44gQoufM",
        "outputId": "40ada51a-ad15-47e4-be9c-2049f4dee17a"
      },
      "execution_count": 18,
      "outputs": [
        {
          "output_type": "display_data",
          "data": {
            "text/plain": [
              "<Figure size 432x288 with 1 Axes>"
            ],
            "image/png": "[encoded data removed]"
          },
          "metadata": {
            "needs_background": "light"
          }
        }
      ]
    },
    {
      "cell_type": "code",
      "source": [
        "print(y.std())\n",
        "print(y.mean())"
      ],
      "metadata": {
        "colab": {
          "base_uri": "https://localhost:8080/"
        },
        "id": "KFjagO-Wfk9v",
        "outputId": "0d00ae5c-59c6-44f6-ac13-de78ec5036c8"
      },
      "execution_count": 19,
      "outputs": [
        {
          "output_type": "stream",
          "name": "stdout",
          "text": [
            "10.09016351650888\n",
            "20.097777843414924\n"
          ]
        }
      ]
    },
    {
      "cell_type": "markdown",
      "source": [
        "LOS RESULTADOS SON MUY CERCANOS A LOS TEORICOS"
      ],
      "metadata": {
        "id": "-91wMYdXma4q"
      }
    },
    {
      "cell_type": "code",
      "source": [
        "# Define the probability space P as a vector of 25 normal random numbers:\n",
        "P = Normal(mean=20, sd=10) ** 25\n",
        "# Define RANDOMVECTOR as a vector of 25 random variables in the Probability space P \n",
        "RANDOMVECTOR = RV(P)\n",
        "# Simulate 10,000 random vectors with this distribution and save the in ymatrix: \n",
        "ymatrix=RANDOMVECTOR.sim(10000)"
      ],
      "metadata": {
        "id": "-oyVscZSo7LN"
      },
      "execution_count": 21,
      "outputs": []
    },
    {
      "cell_type": "code",
      "source": [
        "ymatrix"
      ],
      "metadata": {
        "colab": {
          "base_uri": "https://localhost:8080/",
          "height": 270
        },
        "id": "Jq_S9ABYo8q3",
        "outputId": "edfdd0f3-67d8-4f76-84da-a2b20ed38496"
      },
      "execution_count": 22,
      "outputs": [
        {
          "output_type": "execute_result",
          "data": {
            "text/plain": [
              "Index Result\n",
              "0     (20.487673885962604, 21.451873086317292, 20.366550701300582, 19.124385265456443, 20.096974493288585, ..., 14.134963836867712)\n",
              "1     (9.522298688063815, 26.55371995159365, 18.317781887629376, 8.315435461998904, 43.20522168630132, ..., 31.88891831967281)\n",
              "2     (15.627782990431246, 15.539018606493228, 19.672935553081835, 27.16550280128913, 20.342608346387713, ..., 18.23742642327068)\n",
              "3     (21.215056603704863, 47.570267941853714, 1.7317921155599798, 17.956051947024264, 28.288509429281117, ..., 8.6329784998549)\n",
              "4     (25.37373231396315, 22.92360149546087, 7.830423610604257, 22.198841268640837, 0.8516325010542438, ..., 2.373344898446529)\n",
              "5     (24.176734530640076, 13.888051464954366, 13.205993383660402, 12.373351498092598, 23.373540781467764, ..., 19.06026572865149)\n",
              "6     (24.284419182588707, 9.757757644918694, 37.548902481124415, 16.719621269291434, 14.800891780858764, ..., 4.257946087462736)\n",
              "7     (16.454848152447653, 26.136065263682394, 25.60350667814742, 18.99408224772488, 34.34503496561756, ..., 41.855410179505746)\n",
              "8     (-1.5328534388696369, 25.2740376039973, 12.314138329109948, 19.796106560785184, 19.080539638670853, ..., 25.523141588461026)\n",
              "....  ..............................................................................................................................\n",
              "9999  (28.087485147332828, -0.011545497258754978, 29.16644185332238, 23.327532317215894, 15.923106669253649, ..., 6.447717940951293)"
            ],
            "text/html": [
              "\n",
              "    <table>\n",
              "      <thead>\n",
              "        <th width=\"10%\">Index</th>\n",
              "        <th width=\"90%\">Result</th>\n",
              "      </thead>\n",
              "      <tbody>\n",
              "        \n",
              "        <tr>\n",
              "          <td>0</td><td>(20.487673885962604, 21.451873086317292, 20.366550701300582, 19.124385265456443, 20.096974493288585,...</td>\n",
              "        </tr>\n",
              "        \n",
              "        <tr>\n",
              "          <td>1</td><td>(9.522298688063815, 26.55371995159365, 18.317781887629376, 8.315435461998904, 43.20522168630132, ......</td>\n",
              "        </tr>\n",
              "        \n",
              "        <tr>\n",
              "          <td>2</td><td>(15.627782990431246, 15.539018606493228, 19.672935553081835, 27.16550280128913, 20.342608346387713, ...</td>\n",
              "        </tr>\n",
              "        \n",
              "        <tr>\n",
              "          <td>3</td><td>(21.215056603704863, 47.570267941853714, 1.7317921155599798, 17.956051947024264, 28.288509429281117,...</td>\n",
              "        </tr>\n",
              "        \n",
              "        <tr>\n",
              "          <td>4</td><td>(25.37373231396315, 22.92360149546087, 7.830423610604257, 22.198841268640837, 0.8516325010542438, .....</td>\n",
              "        </tr>\n",
              "        \n",
              "        <tr>\n",
              "          <td>5</td><td>(24.176734530640076, 13.888051464954366, 13.205993383660402, 12.373351498092598, 23.373540781467764,...</td>\n",
              "        </tr>\n",
              "        \n",
              "        <tr>\n",
              "          <td>6</td><td>(24.284419182588707, 9.757757644918694, 37.548902481124415, 16.719621269291434, 14.800891780858764, ...</td>\n",
              "        </tr>\n",
              "        \n",
              "        <tr>\n",
              "          <td>7</td><td>(16.454848152447653, 26.136065263682394, 25.60350667814742, 18.99408224772488, 34.34503496561756, .....</td>\n",
              "        </tr>\n",
              "        \n",
              "        <tr>\n",
              "          <td>8</td><td>(-1.5328534388696369, 25.2740376039973, 12.314138329109948, 19.796106560785184, 19.080539638670853, ...</td>\n",
              "        </tr>\n",
              "        <tr><td>...</td><td>...</td></tr>\n",
              "        <tr>\n",
              "          <td>9999</td><td>(28.087485147332828, -0.011545497258754978, 29.16644185332238, 23.327532317215894, 15.92310666925364...</td>\n",
              "        </tr>\n",
              "        \n",
              "      </tbody>\n",
              "    </table>\n",
              "        "
            ]
          },
          "metadata": {},
          "execution_count": 22
        }
      ]
    },
    {
      "cell_type": "code",
      "source": [
        "# The 2nd parameter is the mathematical operation applied to each row of the random vector\n",
        "# Simulate 10,000 means of each random vector of 25 uniform distributed numbers: \n",
        "ymean = RV(P,mean).sim(10000)\n",
        "ymean"
      ],
      "metadata": {
        "colab": {
          "base_uri": "https://localhost:8080/",
          "height": 270
        },
        "id": "6NGV9hI9o_QQ",
        "outputId": "682abcd4-d632-4fb0-de15-421174561fdf"
      },
      "execution_count": 23,
      "outputs": [
        {
          "output_type": "execute_result",
          "data": {
            "text/plain": [
              "Index Result\n",
              "0     19.89075089922783\n",
              "1     20.593707329718764\n",
              "2     19.685401615655415\n",
              "3     21.229146873691935\n",
              "4     19.978735125250445\n",
              "5     18.36847375437907\n",
              "6     22.602037587196286\n",
              "7     23.914303530024416\n",
              "8     18.76809274333009\n",
              "....  .................\n",
              "9999  21.94331258694837"
            ],
            "text/html": [
              "\n",
              "    <table>\n",
              "      <thead>\n",
              "        <th width=\"10%\">Index</th>\n",
              "        <th width=\"90%\">Result</th>\n",
              "      </thead>\n",
              "      <tbody>\n",
              "        \n",
              "        <tr>\n",
              "          <td>0</td><td>19.89075089922783</td>\n",
              "        </tr>\n",
              "        \n",
              "        <tr>\n",
              "          <td>1</td><td>20.593707329718764</td>\n",
              "        </tr>\n",
              "        \n",
              "        <tr>\n",
              "          <td>2</td><td>19.685401615655415</td>\n",
              "        </tr>\n",
              "        \n",
              "        <tr>\n",
              "          <td>3</td><td>21.229146873691935</td>\n",
              "        </tr>\n",
              "        \n",
              "        <tr>\n",
              "          <td>4</td><td>19.978735125250445</td>\n",
              "        </tr>\n",
              "        \n",
              "        <tr>\n",
              "          <td>5</td><td>18.36847375437907</td>\n",
              "        </tr>\n",
              "        \n",
              "        <tr>\n",
              "          <td>6</td><td>22.602037587196286</td>\n",
              "        </tr>\n",
              "        \n",
              "        <tr>\n",
              "          <td>7</td><td>23.914303530024416</td>\n",
              "        </tr>\n",
              "        \n",
              "        <tr>\n",
              "          <td>8</td><td>18.76809274333009</td>\n",
              "        </tr>\n",
              "        <tr><td>...</td><td>...</td></tr>\n",
              "        <tr>\n",
              "          <td>9999</td><td>21.94331258694837</td>\n",
              "        </tr>\n",
              "        \n",
              "      </tbody>\n",
              "    </table>\n",
              "        "
            ]
          },
          "metadata": {},
          "execution_count": 23
        }
      ]
    },
    {
      "cell_type": "code",
      "source": [
        "plt.clf()\n",
        "ymean.plot()\n",
        "plt.show()"
      ],
      "metadata": {
        "colab": {
          "base_uri": "https://localhost:8080/",
          "height": 265
        },
        "id": "8zIYf8VzpBnW",
        "outputId": "b71e7ed8-5233-4999-f6fd-6dcce1eb833c"
      },
      "execution_count": 24,
      "outputs": [
        {
          "output_type": "display_data",
          "data": {
            "text/plain": [
              "<Figure size 432x288 with 1 Axes>"
            ],
            "image/png": "[encoded data removed]"
          },
          "metadata": {
            "needs_background": "light"
          }
        }
      ]
    },
    {
      "cell_type": "code",
      "source": [
        "print(ymean.std())\n",
        "print(ymean.mean())"
      ],
      "metadata": {
        "colab": {
          "base_uri": "https://localhost:8080/"
        },
        "id": "OFXVjMrJmjA5",
        "outputId": "6189cd77-840c-47df-d4ad-21bf44ccd59f"
      },
      "execution_count": 26,
      "outputs": [
        {
          "output_type": "stream",
          "name": "stdout",
          "text": [
            "2.0063868541305174\n",
            "19.990987137131807\n"
          ]
        }
      ]
    },
    {
      "cell_type": "markdown",
      "source": [
        "AQUI TAMBIEN SE PUEDE VER QUE LOS VALORES SON MUY CERCANOS A LOS TEORICOS, SIEMPRE SE VE UNA MAYOR CONSENTRACION JUSTO EN EL CENTRO DE LOS VALORES Y SE VUELVEN MENORES A SUS EXTERIORES, FORMANDO UNA CAMPANA DE GAUSS"
      ],
      "metadata": {
        "id": "PjylmEiSmnG8"
      }
    },
    {
      "cell_type": "code",
      "source": [
        "plt.clf()\n",
        "ymean.plot()\n",
        "y.plot()\n",
        "plt.show()"
      ],
      "metadata": {
        "colab": {
          "base_uri": "https://localhost:8080/",
          "height": 265
        },
        "id": "XmQGziXPpE_3",
        "outputId": "e70ef40b-2dba-4fb6-ba84-93ada46e81f9"
      },
      "execution_count": 25,
      "outputs": [
        {
          "output_type": "display_data",
          "data": {
            "text/plain": [
              "<Figure size 432x288 with 1 Axes>"
            ],
            "image/png": "[encoded data removed]"
          },
          "metadata": {
            "needs_background": "light"
          }
        }
      ]
    },
    {
      "cell_type": "markdown",
      "source": [
        "SE PUEDE OBSERVAR EN AMBOS CASOS UN COMPORTAMIENTO DE CAMPANA DE GAUSS, PERO SE PUEDE OBSERVAR QUE EN LA SIMULACION DE GRUPOS HAY UNA MAYOR CONSENTRACION EN EL CENTRO."
      ],
      "metadata": {
        "id": "NFqzXxWynCLR"
      }
    },
    {
      "cell_type": "code",
      "source": [
        "!pip install pandas-datareader==0.10.0"
      ],
      "metadata": {
        "colab": {
          "base_uri": "https://localhost:8080/"
        },
        "id": "0qbM8Z80qWhB",
        "outputId": "47d64917-335c-4041-a8ba-702b326b5180"
      },
      "execution_count": 27,
      "outputs": [
        {
          "output_type": "stream",
          "name": "stdout",
          "text": [
            "Looking in indexes: https://pypi.org/simple, https://us-python.pkg.dev/colab-wheels/public/simple/\n",
            "Collecting pandas-datareader==0.10.0\n",
            "  Downloading pandas_datareader-0.10.0-py3-none-any.whl (109 kB)\n",
            "\u001b[K     |████████████████████████████████| 109 kB 5.2 MB/s \n",
            "\u001b[?25hRequirement already satisfied: requests>=2.19.0 in /usr/local/lib/python3.7/dist-packages (from pandas-datareader==0.10.0) (2.23.0)\n",
            "Requirement already satisfied: pandas>=0.23 in /usr/local/lib/python3.7/dist-packages (from pandas-datareader==0.10.0) (1.3.5)\n",
            "Requirement already satisfied: lxml in /usr/local/lib/python3.7/dist-packages (from pandas-datareader==0.10.0) (4.9.1)\n",
            "Requirement already satisfied: python-dateutil>=2.7.3 in /usr/local/lib/python3.7/dist-packages (from pandas>=0.23->pandas-datareader==0.10.0) (2.8.2)\n",
            "Requirement already satisfied: pytz>=2017.3 in /usr/local/lib/python3.7/dist-packages (from pandas>=0.23->pandas-datareader==0.10.0) (2022.1)\n",
            "Requirement already satisfied: numpy>=1.17.3 in /usr/local/lib/python3.7/dist-packages (from pandas>=0.23->pandas-datareader==0.10.0) (1.21.6)\n",
            "Requirement already satisfied: six>=1.5 in /usr/local/lib/python3.7/dist-packages (from python-dateutil>=2.7.3->pandas>=0.23->pandas-datareader==0.10.0) (1.15.0)\n",
            "Requirement already satisfied: idna<3,>=2.5 in /usr/local/lib/python3.7/dist-packages (from requests>=2.19.0->pandas-datareader==0.10.0) (2.10)\n",
            "Requirement already satisfied: urllib3!=1.25.0,!=1.25.1,<1.26,>=1.21.1 in /usr/local/lib/python3.7/dist-packages (from requests>=2.19.0->pandas-datareader==0.10.0) (1.24.3)\n",
            "Requirement already satisfied: certifi>=2017.4.17 in /usr/local/lib/python3.7/dist-packages (from requests>=2.19.0->pandas-datareader==0.10.0) (2022.6.15)\n",
            "Requirement already satisfied: chardet<4,>=3.0.2 in /usr/local/lib/python3.7/dist-packages (from requests>=2.19.0->pandas-datareader==0.10.0) (3.0.4)\n",
            "Installing collected packages: pandas-datareader\n",
            "  Attempting uninstall: pandas-datareader\n",
            "    Found existing installation: pandas-datareader 0.9.0\n",
            "    Uninstalling pandas-datareader-0.9.0:\n",
            "      Successfully uninstalled pandas-datareader-0.9.0\n",
            "Successfully installed pandas-datareader-0.10.0\n"
          ]
        }
      ]
    },
    {
      "cell_type": "code",
      "source": [
        "import numpy as np\n",
        "import pandas as pd\n",
        "import pandas_datareader as pdr #The pandas_datareader library has functions to download online data from Yahoo Finance"
      ],
      "metadata": {
        "id": "HLCYu3AXq0VV"
      },
      "execution_count": 28,
      "outputs": []
    },
    {
      "cell_type": "code",
      "source": [
        "msft = pdr.get_data_yahoo('MSFT', start=\"01/01/2017\", interval=\"m\")"
      ],
      "metadata": {
        "id": "GfNc29Otq2EH"
      },
      "execution_count": 29,
      "outputs": []
    },
    {
      "cell_type": "code",
      "source": [
        "msft"
      ],
      "metadata": {
        "colab": {
          "base_uri": "https://localhost:8080/",
          "height": 455
        },
        "id": "VjJqr6drq-Zc",
        "outputId": "3247634b-d691-47c8-cb1e-ec8e82479c73"
      },
      "execution_count": 30,
      "outputs": [
        {
          "output_type": "execute_result",
          "data": {
            "text/plain": [
              "                  High         Low        Open       Close       Volume  \\\n",
              "Date                                                                      \n",
              "2017-01-01   65.910004   61.950001   62.790001   64.650002  493453500.0   \n",
              "2017-02-01   65.239998   62.750000   64.360001   63.980000  440744000.0   \n",
              "2017-03-01   66.190002   63.619999   64.129997   65.860001  489169700.0   \n",
              "2017-04-01   69.139999   64.849998   65.809998   68.459999  433191200.0   \n",
              "2017-05-01   70.739998   67.139999   68.680000   69.839996  517218500.0   \n",
              "...                ...         ...         ...         ...          ...   \n",
              "2022-05-01  290.880005  246.440002  277.709991  271.869995  742902000.0   \n",
              "2022-06-01  277.690002  241.509995  275.200012  256.829987  621372300.0   \n",
              "2022-07-01  282.000000  245.940002  256.390015  280.739990  534868400.0   \n",
              "2022-08-01  291.910004  272.380005  277.820007  291.910004  212179300.0   \n",
              "2022-08-12  291.910004  286.940002  288.480011  291.910004   22619675.0   \n",
              "\n",
              "             Adj Close  \n",
              "Date                    \n",
              "2017-01-01   59.846741  \n",
              "2017-02-01   59.226524  \n",
              "2017-03-01   61.336437  \n",
              "2017-04-01   63.757858  \n",
              "2017-05-01   65.043068  \n",
              "...                ...  \n",
              "2022-05-01  271.238251  \n",
              "2022-06-01  256.829987  \n",
              "2022-07-01  280.739990  \n",
              "2022-08-01  291.910004  \n",
              "2022-08-12  291.910004  \n",
              "\n",
              "[69 rows x 6 columns]"
            ],
            "text/html": [
              "\n",
              "  <div id=\"df-afa2d179-214c-4d1d-bf83-da351aad577a\">\n",
              "    <div class=\"colab-df-container\">\n",
              "      <div>\n",
              "<style scoped>\n",
              "    .dataframe tbody tr th:only-of-type {\n",
              "        vertical-align: middle;\n",
              "    }\n",
              "\n",
              "    .dataframe tbody tr th {\n",
              "        vertical-align: top;\n",
              "    }\n",
              "\n",
              "    .dataframe thead th {\n",
              "        text-align: right;\n",
              "    }\n",
              "</style>\n",
              "<table border=\"1\" class=\"dataframe\">\n",
              "  <thead>\n",
              "    <tr style=\"text-align: right;\">\n",
              "      <th></th>\n",
              "      <th>High</th>\n",
              "      <th>Low</th>\n",
              "      <th>Open</th>\n",
              "      <th>Close</th>\n",
              "      <th>Volume</th>\n",
              "      <th>Adj Close</th>\n",
              "    </tr>\n",
              "    <tr>\n",
              "      <th>Date</th>\n",
              "      <th></th>\n",
              "      <th></th>\n",
              "      <th></th>\n",
              "      <th></th>\n",
              "      <th></th>\n",
              "      <th></th>\n",
              "    </tr>\n",
              "  </thead>\n",
              "  <tbody>\n",
              "    <tr>\n",
              "      <th>2017-01-01</th>\n",
              "      <td>65.910004</td>\n",
              "      <td>61.950001</td>\n",
              "      <td>62.790001</td>\n",
              "      <td>64.650002</td>\n",
              "      <td>493453500.0</td>\n",
              "      <td>59.846741</td>\n",
              "    </tr>\n",
              "    <tr>\n",
              "      <th>2017-02-01</th>\n",
              "      <td>65.239998</td>\n",
              "      <td>62.750000</td>\n",
              "      <td>64.360001</td>\n",
              "      <td>63.980000</td>\n",
              "      <td>440744000.0</td>\n",
              "      <td>59.226524</td>\n",
              "    </tr>\n",
              "    <tr>\n",
              "      <th>2017-03-01</th>\n",
              "      <td>66.190002</td>\n",
              "      <td>63.619999</td>\n",
              "      <td>64.129997</td>\n",
              "      <td>65.860001</td>\n",
              "      <td>489169700.0</td>\n",
              "      <td>61.336437</td>\n",
              "    </tr>\n",
              "    <tr>\n",
              "      <th>2017-04-01</th>\n",
              "      <td>69.139999</td>\n",
              "      <td>64.849998</td>\n",
              "      <td>65.809998</td>\n",
              "      <td>68.459999</td>\n",
              "      <td>433191200.0</td>\n",
              "      <td>63.757858</td>\n",
              "    </tr>\n",
              "    <tr>\n",
              "      <th>2017-05-01</th>\n",
              "      <td>70.739998</td>\n",
              "      <td>67.139999</td>\n",
              "      <td>68.680000</td>\n",
              "      <td>69.839996</td>\n",
              "      <td>517218500.0</td>\n",
              "      <td>65.043068</td>\n",
              "    </tr>\n",
              "    <tr>\n",
              "      <th>...</th>\n",
              "      <td>...</td>\n",
              "      <td>...</td>\n",
              "      <td>...</td>\n",
              "      <td>...</td>\n",
              "      <td>...</td>\n",
              "      <td>...</td>\n",
              "    </tr>\n",
              "    <tr>\n",
              "      <th>2022-05-01</th>\n",
              "      <td>290.880005</td>\n",
              "      <td>246.440002</td>\n",
              "      <td>277.709991</td>\n",
              "      <td>271.869995</td>\n",
              "      <td>742902000.0</td>\n",
              "      <td>271.238251</td>\n",
              "    </tr>\n",
              "    <tr>\n",
              "      <th>2022-06-01</th>\n",
              "      <td>277.690002</td>\n",
              "      <td>241.509995</td>\n",
              "      <td>275.200012</td>\n",
              "      <td>256.829987</td>\n",
              "      <td>621372300.0</td>\n",
              "      <td>256.829987</td>\n",
              "    </tr>\n",
              "    <tr>\n",
              "      <th>2022-07-01</th>\n",
              "      <td>282.000000</td>\n",
              "      <td>245.940002</td>\n",
              "      <td>256.390015</td>\n",
              "      <td>280.739990</td>\n",
              "      <td>534868400.0</td>\n",
              "      <td>280.739990</td>\n",
              "    </tr>\n",
              "    <tr>\n",
              "      <th>2022-08-01</th>\n",
              "      <td>291.910004</td>\n",
              "      <td>272.380005</td>\n",
              "      <td>277.820007</td>\n",
              "      <td>291.910004</td>\n",
              "      <td>212179300.0</td>\n",
              "      <td>291.910004</td>\n",
              "    </tr>\n",
              "    <tr>\n",
              "      <th>2022-08-12</th>\n",
              "      <td>291.910004</td>\n",
              "      <td>286.940002</td>\n",
              "      <td>288.480011</td>\n",
              "      <td>291.910004</td>\n",
              "      <td>22619675.0</td>\n",
              "      <td>291.910004</td>\n",
              "    </tr>\n",
              "  </tbody>\n",
              "</table>\n",
              "<p>69 rows × 6 columns</p>\n",
              "</div>\n",
              "      <button class=\"colab-df-convert\" onclick=\"convertToInteractive('df-afa2d179-214c-4d1d-bf83-da351aad577a')\"\n",
              "              title=\"Convert this dataframe to an interactive table.\"\n",
              "              style=\"display:none;\">\n",
              "        \n",
              "  <svg xmlns=\"http://www.w3.org/2000/svg\" height=\"24px\"viewBox=\"0 0 24 24\"\n",
              "       width=\"24px\">\n",
              "    <path d=\"M0 0h24v24H0V0z\" fill=\"none\"/>\n",
              "    <path d=\"M18.56 5.44l.94 2.06.94-2.06 2.06-.94-2.06-.94-.94-2.06-.94 2.06-2.06.94zm-11 1L8.5 8.5l.94-2.06 2.06-.94-2.06-.94L8.5 2.5l-.94 2.06-2.06.94zm10 10l.94 2.06.94-2.06 2.06-.94-2.06-.94-.94-2.06-.94 2.06-2.06.94z\"/><path d=\"M17.41 7.96l-1.37-1.37c-.4-.4-.92-.59-1.43-.59-.52 0-1.04.2-1.43.59L10.3 9.45l-7.72 7.72c-.78.78-.78 2.05 0 2.83L4 21.41c.39.39.9.59 1.41.59.51 0 1.02-.2 1.41-.59l7.78-7.78 2.81-2.81c.8-.78.8-2.07 0-2.86zM5.41 20L4 18.59l7.72-7.72 1.47 1.35L5.41 20z\"/>\n",
              "  </svg>\n",
              "      </button>\n",
              "      \n",
              "  <style>\n",
              "    .colab-df-container {\n",
              "      display:flex;\n",
              "      flex-wrap:wrap;\n",
              "      gap: 12px;\n",
              "    }\n",
              "\n",
              "    .colab-df-convert {\n",
              "      background-color: #E8F0FE;\n",
              "      border: none;\n",
              "      border-radius: 50%;\n",
              "      cursor: pointer;\n",
              "      display: none;\n",
              "      fill: #1967D2;\n",
              "      height: 32px;\n",
              "      padding: 0 0 0 0;\n",
              "      width: 32px;\n",
              "    }\n",
              "\n",
              "    .colab-df-convert:hover {\n",
              "      background-color: #E2EBFA;\n",
              "      box-shadow: 0px 1px 2px rgba(60, 64, 67, 0.3), 0px 1px 3px 1px rgba(60, 64, 67, 0.15);\n",
              "      fill: #174EA6;\n",
              "    }\n",
              "\n",
              "    [theme=dark] .colab-df-convert {\n",
              "      background-color: #3B4455;\n",
              "      fill: #D2E3FC;\n",
              "    }\n",
              "\n",
              "    [theme=dark] .colab-df-convert:hover {\n",
              "      background-color: #434B5C;\n",
              "      box-shadow: 0px 1px 3px 1px rgba(0, 0, 0, 0.15);\n",
              "      filter: drop-shadow(0px 1px 2px rgba(0, 0, 0, 0.3));\n",
              "      fill: #FFFFFF;\n",
              "    }\n",
              "  </style>\n",
              "\n",
              "      <script>\n",
              "        const buttonEl =\n",
              "          document.querySelector('#df-afa2d179-214c-4d1d-bf83-da351aad577a button.colab-df-convert');\n",
              "        buttonEl.style.display =\n",
              "          google.colab.kernel.accessAllowed ? 'block' : 'none';\n",
              "\n",
              "        async function convertToInteractive(key) {\n",
              "          const element = document.querySelector('#df-afa2d179-214c-4d1d-bf83-da351aad577a');\n",
              "          const dataTable =\n",
              "            await google.colab.kernel.invokeFunction('convertToInteractive',\n",
              "                                                     [key], {});\n",
              "          if (!dataTable) return;\n",
              "\n",
              "          const docLinkHtml = 'Like what you see? Visit the ' +\n",
              "            '<a target=\"_blank\" href=https://colab.research.google.com/notebooks/data_table.ipynb>data table notebook</a>'\n",
              "            + ' to learn more about interactive tables.';\n",
              "          element.innerHTML = '';\n",
              "          dataTable['output_type'] = 'display_data';\n",
              "          await google.colab.output.renderOutput(dataTable, element);\n",
              "          const docLink = document.createElement('div');\n",
              "          docLink.innerHTML = docLinkHtml;\n",
              "          element.appendChild(docLink);\n",
              "        }\n",
              "      </script>\n",
              "    </div>\n",
              "  </div>\n",
              "  "
            ]
          },
          "metadata": {},
          "execution_count": 30
        }
      ]
    },
    {
      "cell_type": "markdown",
      "source": [
        "\n",
        "*   H0 = mean adj close = 0\n",
        "*   Ha = mean adj close > 0\n",
        "\n",
        "\n"
      ],
      "metadata": {
        "id": "DWJnTwrqrS3k"
      }
    },
    {
      "cell_type": "markdown",
      "source": [
        "ERROR ESTANDAR"
      ],
      "metadata": {
        "id": "2WS7c13XwcH5"
      }
    },
    {
      "cell_type": "code",
      "source": [
        "np.std(msft[\"Adj Close\"], ddof=1) / np.sqrt(np.size(msft[\"Adj Close\"]))"
      ],
      "metadata": {
        "colab": {
          "base_uri": "https://localhost:8080/"
        },
        "id": "U7OawOygse11",
        "outputId": "898f58d5-bc4a-4c29-920a-2a661a9a2bca"
      },
      "execution_count": 31,
      "outputs": [
        {
          "output_type": "execute_result",
          "data": {
            "text/plain": [
              "10.342702059497793"
            ]
          },
          "metadata": {},
          "execution_count": 31
        }
      ]
    },
    {
      "cell_type": "code",
      "source": [
        "msft[\"Adj Close\"].std()"
      ],
      "metadata": {
        "colab": {
          "base_uri": "https://localhost:8080/"
        },
        "id": "yk7hwrcBs2zz",
        "outputId": "60a0c515-bffb-4a44-a653-eeda87397507"
      },
      "execution_count": 32,
      "outputs": [
        {
          "output_type": "execute_result",
          "data": {
            "text/plain": [
              "85.91293573447628"
            ]
          },
          "metadata": {},
          "execution_count": 32
        }
      ]
    },
    {
      "cell_type": "code",
      "source": [
        "msft[\"Adj Close\"].mean()"
      ],
      "metadata": {
        "colab": {
          "base_uri": "https://localhost:8080/"
        },
        "id": "tg85-wkKv3v5",
        "outputId": "5bcd0f98-497c-4d51-9ace-283057802622"
      },
      "execution_count": 39,
      "outputs": [
        {
          "output_type": "execute_result",
          "data": {
            "text/plain": [
              "169.84061713840651"
            ]
          },
          "metadata": {},
          "execution_count": 39
        }
      ]
    },
    {
      "cell_type": "markdown",
      "source": [
        "CALCULO DEL T-VALUE"
      ],
      "metadata": {
        "id": "XZPh7qFRwihR"
      }
    },
    {
      "cell_type": "code",
      "source": [
        "from scipy.stats import t\n"
      ],
      "metadata": {
        "id": "PwjgqoRHubCE"
      },
      "execution_count": 33,
      "outputs": []
    },
    {
      "cell_type": "code",
      "source": [
        "t_crit = np.abs(t.ppf((1-0.95)/2,len(msft[\"Adj Close\"]-1)))"
      ],
      "metadata": {
        "id": "IBTiulQ8uVM6"
      },
      "execution_count": 41,
      "outputs": []
    },
    {
      "cell_type": "code",
      "source": [
        "t_crit"
      ],
      "metadata": {
        "colab": {
          "base_uri": "https://localhost:8080/"
        },
        "id": "SHAAMgxnun21",
        "outputId": "25b7e0a9-633e-4b6d-a866-99d475a1ac93"
      },
      "execution_count": 42,
      "outputs": [
        {
          "output_type": "execute_result",
          "data": {
            "text/plain": [
              "1.9949454146328136"
            ]
          },
          "metadata": {},
          "execution_count": 42
        }
      ]
    },
    {
      "cell_type": "markdown",
      "source": [
        "Este nos dice que el valores se encuenctran casi dos veces por encima de la media"
      ],
      "metadata": {
        "id": "5X1K3oiAyfrH"
      }
    },
    {
      "cell_type": "markdown",
      "source": [
        "Cacuclo del intervalo del 95% de confianza"
      ],
      "metadata": {
        "id": "06WG9eqvyQ0D"
      }
    },
    {
      "cell_type": "code",
      "source": [
        "(msft[\"Adj Close\"].mean()-msft[\"Adj Close\"].std()*t_crit/np.sqrt(len(msft[\"Adj Close\"])), msft[\"Adj Close\"].mean()+msft[\"Adj Close\"].std()*t_crit/np.sqrt(len(msft[\"Adj Close\"]))) \n"
      ],
      "metadata": {
        "colab": {
          "base_uri": "https://localhost:8080/"
        },
        "id": "D2LdljS4uzXq",
        "outputId": "7ff6311a-9564-40a0-f4f7-1aa3a40568a7"
      },
      "execution_count": 43,
      "outputs": [
        {
          "output_type": "execute_result",
          "data": {
            "text/plain": [
              "(149.20749108989804, 190.473743186915)"
            ]
          },
          "metadata": {},
          "execution_count": 43
        }
      ]
    },
    {
      "cell_type": "markdown",
      "source": [
        "\n",
        "Simulación\n",
        "---\n",
        "\n"
      ],
      "metadata": {
        "id": "UOLkKNQfwG9k"
      }
    },
    {
      "cell_type": "code",
      "source": [
        "values = [np.random.choice(msft[\"Adj Close\"],size=len(msft[\"Adj Close\"]),replace=True).mean() for i in range(1000)] \n",
        "np.percentile(values,[100*(1-0.95)/2,100*(1-(1-0.95)/2)])"
      ],
      "metadata": {
        "colab": {
          "base_uri": "https://localhost:8080/"
        },
        "id": "55Z0ObjJwHUu",
        "outputId": "1174ad66-8b2b-495b-a54d-80cef907ab4c"
      },
      "execution_count": 44,
      "outputs": [
        {
          "output_type": "execute_result",
          "data": {
            "text/plain": [
              "array([150.00751308, 188.74668988])"
            ]
          },
          "metadata": {},
          "execution_count": 44
        }
      ]
    },
    {
      "cell_type": "markdown",
      "source": [
        "CON ESTOS RESULTADOS OBTENIDOS SE PUEDE CONCLUIR QUE LA HIPOTESIS ALTERNATIVA ES CORRECTA"
      ],
      "metadata": {
        "id": "fKEU3gkpyzRv"
      }
    }
  ]
}