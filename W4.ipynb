{
  "nbformat": 4,
  "nbformat_minor": 0,
  "metadata": {
    "colab": {
      "name": "W4.ipynb",
      "provenance": []
    },
    "kernelspec": {
      "name": "python3",
      "display_name": "Python 3"
    },
    "language_info": {
      "name": "python"
    }
  },
  "cells": [
    {
      "cell_type": "code",
      "execution_count": 96,
      "metadata": {
        "colab": {
          "base_uri": "https://localhost:8080/"
        },
        "id": "6Tvd8uIVLMlk",
        "outputId": "46f09449-872a-4dc6-b473-dd603ca0de14"
      },
      "outputs": [
        {
          "output_type": "stream",
          "name": "stdout",
          "text": [
            "Looking in indexes: https://pypi.org/simple, https://us-python.pkg.dev/colab-wheels/public/simple/\n",
            "Requirement already satisfied: yfinance in /usr/local/lib/python3.7/dist-packages (0.1.74)\n",
            "Requirement already satisfied: pandas>=0.24.0 in /usr/local/lib/python3.7/dist-packages (from yfinance) (1.3.5)\n",
            "Requirement already satisfied: lxml>=4.5.1 in /usr/local/lib/python3.7/dist-packages (from yfinance) (4.9.1)\n",
            "Requirement already satisfied: numpy>=1.15 in /usr/local/lib/python3.7/dist-packages (from yfinance) (1.21.6)\n",
            "Requirement already satisfied: multitasking>=0.0.7 in /usr/local/lib/python3.7/dist-packages (from yfinance) (0.0.11)\n",
            "Requirement already satisfied: requests>=2.26 in /usr/local/lib/python3.7/dist-packages (from yfinance) (2.28.1)\n",
            "Requirement already satisfied: pytz>=2017.3 in /usr/local/lib/python3.7/dist-packages (from pandas>=0.24.0->yfinance) (2022.1)\n",
            "Requirement already satisfied: python-dateutil>=2.7.3 in /usr/local/lib/python3.7/dist-packages (from pandas>=0.24.0->yfinance) (2.8.2)\n",
            "Requirement already satisfied: six>=1.5 in /usr/local/lib/python3.7/dist-packages (from python-dateutil>=2.7.3->pandas>=0.24.0->yfinance) (1.15.0)\n",
            "Requirement already satisfied: urllib3<1.27,>=1.21.1 in /usr/local/lib/python3.7/dist-packages (from requests>=2.26->yfinance) (1.24.3)\n",
            "Requirement already satisfied: charset-normalizer<3,>=2 in /usr/local/lib/python3.7/dist-packages (from requests>=2.26->yfinance) (2.1.0)\n",
            "Requirement already satisfied: idna<4,>=2.5 in /usr/local/lib/python3.7/dist-packages (from requests>=2.26->yfinance) (2.10)\n",
            "Requirement already satisfied: certifi>=2017.4.17 in /usr/local/lib/python3.7/dist-packages (from requests>=2.26->yfinance) (2022.6.15)\n"
          ]
        }
      ],
      "source": [
        "!pip install yfinance"
      ]
    },
    {
      "cell_type": "code",
      "source": [
        "!pip install pandas-datareader==0.10.0"
      ],
      "metadata": {
        "colab": {
          "base_uri": "https://localhost:8080/"
        },
        "id": "4qOk0dklLo1v",
        "outputId": "8400ac0f-11c5-4cfb-805e-fcbd0520b66c"
      },
      "execution_count": 97,
      "outputs": [
        {
          "output_type": "stream",
          "name": "stdout",
          "text": [
            "Looking in indexes: https://pypi.org/simple, https://us-python.pkg.dev/colab-wheels/public/simple/\n",
            "Requirement already satisfied: pandas-datareader==0.10.0 in /usr/local/lib/python3.7/dist-packages (0.10.0)\n",
            "Requirement already satisfied: requests>=2.19.0 in /usr/local/lib/python3.7/dist-packages (from pandas-datareader==0.10.0) (2.28.1)\n",
            "Requirement already satisfied: lxml in /usr/local/lib/python3.7/dist-packages (from pandas-datareader==0.10.0) (4.9.1)\n",
            "Requirement already satisfied: pandas>=0.23 in /usr/local/lib/python3.7/dist-packages (from pandas-datareader==0.10.0) (1.3.5)\n",
            "Requirement already satisfied: numpy>=1.17.3 in /usr/local/lib/python3.7/dist-packages (from pandas>=0.23->pandas-datareader==0.10.0) (1.21.6)\n",
            "Requirement already satisfied: python-dateutil>=2.7.3 in /usr/local/lib/python3.7/dist-packages (from pandas>=0.23->pandas-datareader==0.10.0) (2.8.2)\n",
            "Requirement already satisfied: pytz>=2017.3 in /usr/local/lib/python3.7/dist-packages (from pandas>=0.23->pandas-datareader==0.10.0) (2022.1)\n",
            "Requirement already satisfied: six>=1.5 in /usr/local/lib/python3.7/dist-packages (from python-dateutil>=2.7.3->pandas>=0.23->pandas-datareader==0.10.0) (1.15.0)\n",
            "Requirement already satisfied: urllib3<1.27,>=1.21.1 in /usr/local/lib/python3.7/dist-packages (from requests>=2.19.0->pandas-datareader==0.10.0) (1.24.3)\n",
            "Requirement already satisfied: charset-normalizer<3,>=2 in /usr/local/lib/python3.7/dist-packages (from requests>=2.19.0->pandas-datareader==0.10.0) (2.1.0)\n",
            "Requirement already satisfied: certifi>=2017.4.17 in /usr/local/lib/python3.7/dist-packages (from requests>=2.19.0->pandas-datareader==0.10.0) (2022.6.15)\n",
            "Requirement already satisfied: idna<4,>=2.5 in /usr/local/lib/python3.7/dist-packages (from requests>=2.19.0->pandas-datareader==0.10.0) (2.10)\n"
          ]
        }
      ]
    },
    {
      "cell_type": "code",
      "source": [
        "import numpy as np\n",
        "import pandas as pd\n",
        "import pandas_datareader as pdr\n",
        "import yfinance as yf\n",
        "import matplotlib\n",
        "import matplotlib.pyplot as plt\n",
        "\n",
        "ALFAA = pdr.get_data_yahoo('ALFAA.MX', start=\"01/01/2017\", interval=\"m\")\n",
        "IPC = pdr.get_data_yahoo('^MXX', start=\"01/01/2017\", interval=\"m\")"
      ],
      "metadata": {
        "id": "RtmBhPSoLtzu"
      },
      "execution_count": 98,
      "outputs": []
    },
    {
      "cell_type": "code",
      "source": [
        "ALFAA = ALFAA.loc[ALFAA[\"Adj Close\"].notna()]\n",
        "IPC = IPC.loc[IPC[\"Adj Close\"].notna()]\n"
      ],
      "metadata": {
        "id": "A0euAXvRMTzD"
      },
      "execution_count": 99,
      "outputs": []
    },
    {
      "cell_type": "code",
      "source": [
        "ALFAA.tail()"
      ],
      "metadata": {
        "colab": {
          "base_uri": "https://localhost:8080/",
          "height": 237
        },
        "id": "lE0e3O_aMrEW",
        "outputId": "c8dde93f-8284-4b2b-8c21-0b1f5b0bcfb4"
      },
      "execution_count": 100,
      "outputs": [
        {
          "output_type": "execute_result",
          "data": {
            "text/plain": [
              "             High    Low   Open  Close       Volume  Adj Close\n",
              "Date                                                          \n",
              "2022-05-01  15.30  12.81  13.66  15.12  278403554.0      15.12\n",
              "2022-06-01  15.21  13.16  15.11  14.28  188220874.0      14.28\n",
              "2022-07-01  15.37  13.51  14.25  14.01  109145600.0      14.01\n",
              "2022-08-01  14.35  13.63  13.98  14.29   69329711.0      14.29\n",
              "2022-08-18  14.30  14.07  14.20  14.25    1411005.0      14.25"
            ],
            "text/html": [
              "\n",
              "  <div id=\"df-3942ba3f-61ef-4746-95fc-f026d97b4514\">\n",
              "    <div class=\"colab-df-container\">\n",
              "      <div>\n",
              "<style scoped>\n",
              "    .dataframe tbody tr th:only-of-type {\n",
              "        vertical-align: middle;\n",
              "    }\n",
              "\n",
              "    .dataframe tbody tr th {\n",
              "        vertical-align: top;\n",
              "    }\n",
              "\n",
              "    .dataframe thead th {\n",
              "        text-align: right;\n",
              "    }\n",
              "</style>\n",
              "<table border=\"1\" class=\"dataframe\">\n",
              "  <thead>\n",
              "    <tr style=\"text-align: right;\">\n",
              "      <th></th>\n",
              "      <th>High</th>\n",
              "      <th>Low</th>\n",
              "      <th>Open</th>\n",
              "      <th>Close</th>\n",
              "      <th>Volume</th>\n",
              "      <th>Adj Close</th>\n",
              "    </tr>\n",
              "    <tr>\n",
              "      <th>Date</th>\n",
              "      <th></th>\n",
              "      <th></th>\n",
              "      <th></th>\n",
              "      <th></th>\n",
              "      <th></th>\n",
              "      <th></th>\n",
              "    </tr>\n",
              "  </thead>\n",
              "  <tbody>\n",
              "    <tr>\n",
              "      <th>2022-05-01</th>\n",
              "      <td>15.30</td>\n",
              "      <td>12.81</td>\n",
              "      <td>13.66</td>\n",
              "      <td>15.12</td>\n",
              "      <td>278403554.0</td>\n",
              "      <td>15.12</td>\n",
              "    </tr>\n",
              "    <tr>\n",
              "      <th>2022-06-01</th>\n",
              "      <td>15.21</td>\n",
              "      <td>13.16</td>\n",
              "      <td>15.11</td>\n",
              "      <td>14.28</td>\n",
              "      <td>188220874.0</td>\n",
              "      <td>14.28</td>\n",
              "    </tr>\n",
              "    <tr>\n",
              "      <th>2022-07-01</th>\n",
              "      <td>15.37</td>\n",
              "      <td>13.51</td>\n",
              "      <td>14.25</td>\n",
              "      <td>14.01</td>\n",
              "      <td>109145600.0</td>\n",
              "      <td>14.01</td>\n",
              "    </tr>\n",
              "    <tr>\n",
              "      <th>2022-08-01</th>\n",
              "      <td>14.35</td>\n",
              "      <td>13.63</td>\n",
              "      <td>13.98</td>\n",
              "      <td>14.29</td>\n",
              "      <td>69329711.0</td>\n",
              "      <td>14.29</td>\n",
              "    </tr>\n",
              "    <tr>\n",
              "      <th>2022-08-18</th>\n",
              "      <td>14.30</td>\n",
              "      <td>14.07</td>\n",
              "      <td>14.20</td>\n",
              "      <td>14.25</td>\n",
              "      <td>1411005.0</td>\n",
              "      <td>14.25</td>\n",
              "    </tr>\n",
              "  </tbody>\n",
              "</table>\n",
              "</div>\n",
              "      <button class=\"colab-df-convert\" onclick=\"convertToInteractive('df-3942ba3f-61ef-4746-95fc-f026d97b4514')\"\n",
              "              title=\"Convert this dataframe to an interactive table.\"\n",
              "              style=\"display:none;\">\n",
              "        \n",
              "  <svg xmlns=\"http://www.w3.org/2000/svg\" height=\"24px\"viewBox=\"0 0 24 24\"\n",
              "       width=\"24px\">\n",
              "    <path d=\"M0 0h24v24H0V0z\" fill=\"none\"/>\n",
              "    <path d=\"M18.56 5.44l.94 2.06.94-2.06 2.06-.94-2.06-.94-.94-2.06-.94 2.06-2.06.94zm-11 1L8.5 8.5l.94-2.06 2.06-.94-2.06-.94L8.5 2.5l-.94 2.06-2.06.94zm10 10l.94 2.06.94-2.06 2.06-.94-2.06-.94-.94-2.06-.94 2.06-2.06.94z\"/><path d=\"M17.41 7.96l-1.37-1.37c-.4-.4-.92-.59-1.43-.59-.52 0-1.04.2-1.43.59L10.3 9.45l-7.72 7.72c-.78.78-.78 2.05 0 2.83L4 21.41c.39.39.9.59 1.41.59.51 0 1.02-.2 1.41-.59l7.78-7.78 2.81-2.81c.8-.78.8-2.07 0-2.86zM5.41 20L4 18.59l7.72-7.72 1.47 1.35L5.41 20z\"/>\n",
              "  </svg>\n",
              "      </button>\n",
              "      \n",
              "  <style>\n",
              "    .colab-df-container {\n",
              "      display:flex;\n",
              "      flex-wrap:wrap;\n",
              "      gap: 12px;\n",
              "    }\n",
              "\n",
              "    .colab-df-convert {\n",
              "      background-color: #E8F0FE;\n",
              "      border: none;\n",
              "      border-radius: 50%;\n",
              "      cursor: pointer;\n",
              "      display: none;\n",
              "      fill: #1967D2;\n",
              "      height: 32px;\n",
              "      padding: 0 0 0 0;\n",
              "      width: 32px;\n",
              "    }\n",
              "\n",
              "    .colab-df-convert:hover {\n",
              "      background-color: #E2EBFA;\n",
              "      box-shadow: 0px 1px 2px rgba(60, 64, 67, 0.3), 0px 1px 3px 1px rgba(60, 64, 67, 0.15);\n",
              "      fill: #174EA6;\n",
              "    }\n",
              "\n",
              "    [theme=dark] .colab-df-convert {\n",
              "      background-color: #3B4455;\n",
              "      fill: #D2E3FC;\n",
              "    }\n",
              "\n",
              "    [theme=dark] .colab-df-convert:hover {\n",
              "      background-color: #434B5C;\n",
              "      box-shadow: 0px 1px 3px 1px rgba(0, 0, 0, 0.15);\n",
              "      filter: drop-shadow(0px 1px 2px rgba(0, 0, 0, 0.3));\n",
              "      fill: #FFFFFF;\n",
              "    }\n",
              "  </style>\n",
              "\n",
              "      <script>\n",
              "        const buttonEl =\n",
              "          document.querySelector('#df-3942ba3f-61ef-4746-95fc-f026d97b4514 button.colab-df-convert');\n",
              "        buttonEl.style.display =\n",
              "          google.colab.kernel.accessAllowed ? 'block' : 'none';\n",
              "\n",
              "        async function convertToInteractive(key) {\n",
              "          const element = document.querySelector('#df-3942ba3f-61ef-4746-95fc-f026d97b4514');\n",
              "          const dataTable =\n",
              "            await google.colab.kernel.invokeFunction('convertToInteractive',\n",
              "                                                     [key], {});\n",
              "          if (!dataTable) return;\n",
              "\n",
              "          const docLinkHtml = 'Like what you see? Visit the ' +\n",
              "            '<a target=\"_blank\" href=https://colab.research.google.com/notebooks/data_table.ipynb>data table notebook</a>'\n",
              "            + ' to learn more about interactive tables.';\n",
              "          element.innerHTML = '';\n",
              "          dataTable['output_type'] = 'display_data';\n",
              "          await google.colab.output.renderOutput(dataTable, element);\n",
              "          const docLink = document.createElement('div');\n",
              "          docLink.innerHTML = docLinkHtml;\n",
              "          element.appendChild(docLink);\n",
              "        }\n",
              "      </script>\n",
              "    </div>\n",
              "  </div>\n",
              "  "
            ]
          },
          "metadata": {},
          "execution_count": 100
        }
      ]
    },
    {
      "cell_type": "code",
      "source": [
        "IPC"
      ],
      "metadata": {
        "colab": {
          "base_uri": "https://localhost:8080/",
          "height": 455
        },
        "id": "wBllqBeMMsDp",
        "outputId": "715bd83a-6929-472e-d958-d972f89ec7c1"
      },
      "execution_count": 101,
      "outputs": [
        {
          "output_type": "execute_result",
          "data": {
            "text/plain": [
              "                    High           Low          Open         Close  \\\n",
              "Date                                                                 \n",
              "2017-01-01  48632.511719  45314.578125  45642.800781  47001.058594   \n",
              "2017-02-01  48115.980469  46587.929688  47001.968750  46856.789062   \n",
              "2017-03-01  49523.941406  46597.578125  46853.671875  48541.558594   \n",
              "2017-04-01  50147.039062  48335.980469  48549.230469  49261.328125   \n",
              "2017-05-01  50154.328125  48146.000000  49260.121094  48788.441406   \n",
              "...                  ...           ...           ...           ...   \n",
              "2022-05-01  52745.980469  48669.210938  51426.269531  51752.531250   \n",
              "2022-06-01  51820.679688  46344.941406  51739.871094  47524.449219   \n",
              "2022-07-01  48584.140625  46164.269531  47543.351562  48144.328125   \n",
              "2022-08-01  48944.488281  46283.750000  48094.468750  48729.800781   \n",
              "2022-08-18  48796.890625  48270.230469  48796.890625  48729.800781   \n",
              "\n",
              "                Volume     Adj Close  \n",
              "Date                                  \n",
              "2017-01-01  3957117700  47001.058594  \n",
              "2017-02-01  3659561100  46856.789062  \n",
              "2017-03-01  4039192700  48541.558594  \n",
              "2017-04-01  2720546000  49261.328125  \n",
              "2017-05-01  3589382700  48788.441406  \n",
              "...                ...           ...  \n",
              "2022-05-01  5499191700  51752.531250  \n",
              "2022-06-01  4153468300  47524.449219  \n",
              "2022-07-01  2759226700  48144.328125  \n",
              "2022-08-01  2100849400  48729.800781  \n",
              "2022-08-18   104554098  48729.800781  \n",
              "\n",
              "[69 rows x 6 columns]"
            ],
            "text/html": [
              "\n",
              "  <div id=\"df-47e43b95-9808-4eb6-b1f5-a61d0e1ca807\">\n",
              "    <div class=\"colab-df-container\">\n",
              "      <div>\n",
              "<style scoped>\n",
              "    .dataframe tbody tr th:only-of-type {\n",
              "        vertical-align: middle;\n",
              "    }\n",
              "\n",
              "    .dataframe tbody tr th {\n",
              "        vertical-align: top;\n",
              "    }\n",
              "\n",
              "    .dataframe thead th {\n",
              "        text-align: right;\n",
              "    }\n",
              "</style>\n",
              "<table border=\"1\" class=\"dataframe\">\n",
              "  <thead>\n",
              "    <tr style=\"text-align: right;\">\n",
              "      <th></th>\n",
              "      <th>High</th>\n",
              "      <th>Low</th>\n",
              "      <th>Open</th>\n",
              "      <th>Close</th>\n",
              "      <th>Volume</th>\n",
              "      <th>Adj Close</th>\n",
              "    </tr>\n",
              "    <tr>\n",
              "      <th>Date</th>\n",
              "      <th></th>\n",
              "      <th></th>\n",
              "      <th></th>\n",
              "      <th></th>\n",
              "      <th></th>\n",
              "      <th></th>\n",
              "    </tr>\n",
              "  </thead>\n",
              "  <tbody>\n",
              "    <tr>\n",
              "      <th>2017-01-01</th>\n",
              "      <td>48632.511719</td>\n",
              "      <td>45314.578125</td>\n",
              "      <td>45642.800781</td>\n",
              "      <td>47001.058594</td>\n",
              "      <td>3957117700</td>\n",
              "      <td>47001.058594</td>\n",
              "    </tr>\n",
              "    <tr>\n",
              "      <th>2017-02-01</th>\n",
              "      <td>48115.980469</td>\n",
              "      <td>46587.929688</td>\n",
              "      <td>47001.968750</td>\n",
              "      <td>46856.789062</td>\n",
              "      <td>3659561100</td>\n",
              "      <td>46856.789062</td>\n",
              "    </tr>\n",
              "    <tr>\n",
              "      <th>2017-03-01</th>\n",
              "      <td>49523.941406</td>\n",
              "      <td>46597.578125</td>\n",
              "      <td>46853.671875</td>\n",
              "      <td>48541.558594</td>\n",
              "      <td>4039192700</td>\n",
              "      <td>48541.558594</td>\n",
              "    </tr>\n",
              "    <tr>\n",
              "      <th>2017-04-01</th>\n",
              "      <td>50147.039062</td>\n",
              "      <td>48335.980469</td>\n",
              "      <td>48549.230469</td>\n",
              "      <td>49261.328125</td>\n",
              "      <td>2720546000</td>\n",
              "      <td>49261.328125</td>\n",
              "    </tr>\n",
              "    <tr>\n",
              "      <th>2017-05-01</th>\n",
              "      <td>50154.328125</td>\n",
              "      <td>48146.000000</td>\n",
              "      <td>49260.121094</td>\n",
              "      <td>48788.441406</td>\n",
              "      <td>3589382700</td>\n",
              "      <td>48788.441406</td>\n",
              "    </tr>\n",
              "    <tr>\n",
              "      <th>...</th>\n",
              "      <td>...</td>\n",
              "      <td>...</td>\n",
              "      <td>...</td>\n",
              "      <td>...</td>\n",
              "      <td>...</td>\n",
              "      <td>...</td>\n",
              "    </tr>\n",
              "    <tr>\n",
              "      <th>2022-05-01</th>\n",
              "      <td>52745.980469</td>\n",
              "      <td>48669.210938</td>\n",
              "      <td>51426.269531</td>\n",
              "      <td>51752.531250</td>\n",
              "      <td>5499191700</td>\n",
              "      <td>51752.531250</td>\n",
              "    </tr>\n",
              "    <tr>\n",
              "      <th>2022-06-01</th>\n",
              "      <td>51820.679688</td>\n",
              "      <td>46344.941406</td>\n",
              "      <td>51739.871094</td>\n",
              "      <td>47524.449219</td>\n",
              "      <td>4153468300</td>\n",
              "      <td>47524.449219</td>\n",
              "    </tr>\n",
              "    <tr>\n",
              "      <th>2022-07-01</th>\n",
              "      <td>48584.140625</td>\n",
              "      <td>46164.269531</td>\n",
              "      <td>47543.351562</td>\n",
              "      <td>48144.328125</td>\n",
              "      <td>2759226700</td>\n",
              "      <td>48144.328125</td>\n",
              "    </tr>\n",
              "    <tr>\n",
              "      <th>2022-08-01</th>\n",
              "      <td>48944.488281</td>\n",
              "      <td>46283.750000</td>\n",
              "      <td>48094.468750</td>\n",
              "      <td>48729.800781</td>\n",
              "      <td>2100849400</td>\n",
              "      <td>48729.800781</td>\n",
              "    </tr>\n",
              "    <tr>\n",
              "      <th>2022-08-18</th>\n",
              "      <td>48796.890625</td>\n",
              "      <td>48270.230469</td>\n",
              "      <td>48796.890625</td>\n",
              "      <td>48729.800781</td>\n",
              "      <td>104554098</td>\n",
              "      <td>48729.800781</td>\n",
              "    </tr>\n",
              "  </tbody>\n",
              "</table>\n",
              "<p>69 rows × 6 columns</p>\n",
              "</div>\n",
              "      <button class=\"colab-df-convert\" onclick=\"convertToInteractive('df-47e43b95-9808-4eb6-b1f5-a61d0e1ca807')\"\n",
              "              title=\"Convert this dataframe to an interactive table.\"\n",
              "              style=\"display:none;\">\n",
              "        \n",
              "  <svg xmlns=\"http://www.w3.org/2000/svg\" height=\"24px\"viewBox=\"0 0 24 24\"\n",
              "       width=\"24px\">\n",
              "    <path d=\"M0 0h24v24H0V0z\" fill=\"none\"/>\n",
              "    <path d=\"M18.56 5.44l.94 2.06.94-2.06 2.06-.94-2.06-.94-.94-2.06-.94 2.06-2.06.94zm-11 1L8.5 8.5l.94-2.06 2.06-.94-2.06-.94L8.5 2.5l-.94 2.06-2.06.94zm10 10l.94 2.06.94-2.06 2.06-.94-2.06-.94-.94-2.06-.94 2.06-2.06.94z\"/><path d=\"M17.41 7.96l-1.37-1.37c-.4-.4-.92-.59-1.43-.59-.52 0-1.04.2-1.43.59L10.3 9.45l-7.72 7.72c-.78.78-.78 2.05 0 2.83L4 21.41c.39.39.9.59 1.41.59.51 0 1.02-.2 1.41-.59l7.78-7.78 2.81-2.81c.8-.78.8-2.07 0-2.86zM5.41 20L4 18.59l7.72-7.72 1.47 1.35L5.41 20z\"/>\n",
              "  </svg>\n",
              "      </button>\n",
              "      \n",
              "  <style>\n",
              "    .colab-df-container {\n",
              "      display:flex;\n",
              "      flex-wrap:wrap;\n",
              "      gap: 12px;\n",
              "    }\n",
              "\n",
              "    .colab-df-convert {\n",
              "      background-color: #E8F0FE;\n",
              "      border: none;\n",
              "      border-radius: 50%;\n",
              "      cursor: pointer;\n",
              "      display: none;\n",
              "      fill: #1967D2;\n",
              "      height: 32px;\n",
              "      padding: 0 0 0 0;\n",
              "      width: 32px;\n",
              "    }\n",
              "\n",
              "    .colab-df-convert:hover {\n",
              "      background-color: #E2EBFA;\n",
              "      box-shadow: 0px 1px 2px rgba(60, 64, 67, 0.3), 0px 1px 3px 1px rgba(60, 64, 67, 0.15);\n",
              "      fill: #174EA6;\n",
              "    }\n",
              "\n",
              "    [theme=dark] .colab-df-convert {\n",
              "      background-color: #3B4455;\n",
              "      fill: #D2E3FC;\n",
              "    }\n",
              "\n",
              "    [theme=dark] .colab-df-convert:hover {\n",
              "      background-color: #434B5C;\n",
              "      box-shadow: 0px 1px 3px 1px rgba(0, 0, 0, 0.15);\n",
              "      filter: drop-shadow(0px 1px 2px rgba(0, 0, 0, 0.3));\n",
              "      fill: #FFFFFF;\n",
              "    }\n",
              "  </style>\n",
              "\n",
              "      <script>\n",
              "        const buttonEl =\n",
              "          document.querySelector('#df-47e43b95-9808-4eb6-b1f5-a61d0e1ca807 button.colab-df-convert');\n",
              "        buttonEl.style.display =\n",
              "          google.colab.kernel.accessAllowed ? 'block' : 'none';\n",
              "\n",
              "        async function convertToInteractive(key) {\n",
              "          const element = document.querySelector('#df-47e43b95-9808-4eb6-b1f5-a61d0e1ca807');\n",
              "          const dataTable =\n",
              "            await google.colab.kernel.invokeFunction('convertToInteractive',\n",
              "                                                     [key], {});\n",
              "          if (!dataTable) return;\n",
              "\n",
              "          const docLinkHtml = 'Like what you see? Visit the ' +\n",
              "            '<a target=\"_blank\" href=https://colab.research.google.com/notebooks/data_table.ipynb>data table notebook</a>'\n",
              "            + ' to learn more about interactive tables.';\n",
              "          element.innerHTML = '';\n",
              "          dataTable['output_type'] = 'display_data';\n",
              "          await google.colab.output.renderOutput(dataTable, element);\n",
              "          const docLink = document.createElement('div');\n",
              "          docLink.innerHTML = docLinkHtml;\n",
              "          element.appendChild(docLink);\n",
              "        }\n",
              "      </script>\n",
              "    </div>\n",
              "  </div>\n",
              "  "
            ]
          },
          "metadata": {},
          "execution_count": 101
        }
      ]
    },
    {
      "cell_type": "code",
      "source": [
        "#x = ALFAA[\"Adj Close\"]\n",
        "#y = IPC[\"Adj Close\"]\n",
        "y = ALFAA[\"Adj Close\"]\n",
        "x = IPC[\"Adj Close\"]"
      ],
      "metadata": {
        "id": "UCWWgcIYNGZu"
      },
      "execution_count": 102,
      "outputs": []
    },
    {
      "cell_type": "code",
      "source": [
        "from sklearn.linear_model import LinearRegression"
      ],
      "metadata": {
        "id": "guBUvjObNUKC"
      },
      "execution_count": 103,
      "outputs": []
    },
    {
      "cell_type": "code",
      "source": [
        "model = LinearRegression(fit_intercept=True)\n",
        "model"
      ],
      "metadata": {
        "colab": {
          "base_uri": "https://localhost:8080/"
        },
        "id": "9HZyidB7NW-g",
        "outputId": "2a31c866-df7c-402c-a96c-8b0f27b41003"
      },
      "execution_count": 104,
      "outputs": [
        {
          "output_type": "execute_result",
          "data": {
            "text/plain": [
              "LinearRegression()"
            ]
          },
          "metadata": {},
          "execution_count": 104
        }
      ]
    },
    {
      "cell_type": "code",
      "source": [
        "X = x[:, np.newaxis]\n",
        "X.shape"
      ],
      "metadata": {
        "colab": {
          "base_uri": "https://localhost:8080/"
        },
        "id": "l90AP5odNY0Q",
        "outputId": "ab31667c-567a-47ad-d1b3-4ce9a79304af"
      },
      "execution_count": 105,
      "outputs": [
        {
          "output_type": "stream",
          "name": "stderr",
          "text": [
            "/usr/local/lib/python3.7/dist-packages/ipykernel_launcher.py:1: FutureWarning: Support for multi-dimensional indexing (e.g. `obj[:, None]`) is deprecated and will be removed in a future version.  Convert to a numpy array before indexing instead.\n",
            "  \"\"\"Entry point for launching an IPython kernel.\n"
          ]
        },
        {
          "output_type": "execute_result",
          "data": {
            "text/plain": [
              "(69, 1)"
            ]
          },
          "metadata": {},
          "execution_count": 105
        }
      ]
    },
    {
      "cell_type": "code",
      "source": [
        "model.fit(X, y)"
      ],
      "metadata": {
        "colab": {
          "base_uri": "https://localhost:8080/"
        },
        "id": "241OWG63NbYo",
        "outputId": "58761bc9-fd50-4175-81a0-1baab56e0a5c"
      },
      "execution_count": 106,
      "outputs": [
        {
          "output_type": "execute_result",
          "data": {
            "text/plain": [
              "LinearRegression()"
            ]
          },
          "metadata": {},
          "execution_count": 106
        }
      ]
    },
    {
      "cell_type": "code",
      "source": [
        "model.coef_ # This is the parameter value"
      ],
      "metadata": {
        "colab": {
          "base_uri": "https://localhost:8080/"
        },
        "id": "Fy2LkMAMNd3o",
        "outputId": "ffe82af9-03ea-447b-b08f-a8c71604012c"
      },
      "execution_count": 107,
      "outputs": [
        {
          "output_type": "execute_result",
          "data": {
            "text/plain": [
              "array([0.00033705])"
            ]
          },
          "metadata": {},
          "execution_count": 107
        }
      ]
    },
    {
      "cell_type": "code",
      "source": [
        "model.intercept_ # This is the bias value"
      ],
      "metadata": {
        "colab": {
          "base_uri": "https://localhost:8080/"
        },
        "id": "D7lHFw1dNgHw",
        "outputId": "1e084d70-5471-4f72-ddd8-62bc45b628b3"
      },
      "execution_count": 108,
      "outputs": [
        {
          "output_type": "execute_result",
          "data": {
            "text/plain": [
              "2.3568855039761303"
            ]
          },
          "metadata": {},
          "execution_count": 108
        }
      ]
    },
    {
      "cell_type": "code",
      "source": [
        "xfit = np.linspace(-1, 75000)\n",
        "xfit"
      ],
      "metadata": {
        "colab": {
          "base_uri": "https://localhost:8080/"
        },
        "id": "7yqergjhNkNo",
        "outputId": "2e8bd2c4-e346-47e9-9dc8-c5018573c21a"
      },
      "execution_count": 109,
      "outputs": [
        {
          "output_type": "execute_result",
          "data": {
            "text/plain": [
              "array([-1.00000000e+00,  1.52963265e+03,  3.06026531e+03,  4.59089796e+03,\n",
              "        6.12153061e+03,  7.65216327e+03,  9.18279592e+03,  1.07134286e+04,\n",
              "        1.22440612e+04,  1.37746939e+04,  1.53053265e+04,  1.68359592e+04,\n",
              "        1.83665918e+04,  1.98972245e+04,  2.14278571e+04,  2.29584898e+04,\n",
              "        2.44891224e+04,  2.60197551e+04,  2.75503878e+04,  2.90810204e+04,\n",
              "        3.06116531e+04,  3.21422857e+04,  3.36729184e+04,  3.52035510e+04,\n",
              "        3.67341837e+04,  3.82648163e+04,  3.97954490e+04,  4.13260816e+04,\n",
              "        4.28567143e+04,  4.43873469e+04,  4.59179796e+04,  4.74486122e+04,\n",
              "        4.89792449e+04,  5.05098776e+04,  5.20405102e+04,  5.35711429e+04,\n",
              "        5.51017755e+04,  5.66324082e+04,  5.81630408e+04,  5.96936735e+04,\n",
              "        6.12243061e+04,  6.27549388e+04,  6.42855714e+04,  6.58162041e+04,\n",
              "        6.73468367e+04,  6.88774694e+04,  7.04081020e+04,  7.19387347e+04,\n",
              "        7.34693673e+04,  7.50000000e+04])"
            ]
          },
          "metadata": {},
          "execution_count": 109
        }
      ]
    },
    {
      "cell_type": "code",
      "source": [
        "Xfit = xfit[:, np.newaxis]\n",
        "yfit = model.predict(Xfit)\n",
        "yfit"
      ],
      "metadata": {
        "colab": {
          "base_uri": "https://localhost:8080/"
        },
        "id": "dt_h3_obNo9p",
        "outputId": "720e779f-3784-474f-febd-e41246a67583"
      },
      "execution_count": 110,
      "outputs": [
        {
          "output_type": "execute_result",
          "data": {
            "text/plain": [
              "array([ 2.35654846,  2.87244631,  3.38834417,  3.90424202,  4.42013988,\n",
              "        4.93603773,  5.45193559,  5.96783344,  6.4837313 ,  6.99962916,\n",
              "        7.51552701,  8.03142487,  8.54732272,  9.06322058,  9.57911843,\n",
              "       10.09501629, 10.61091414, 11.126812  , 11.64270986, 12.15860771,\n",
              "       12.67450557, 13.19040342, 13.70630128, 14.22219913, 14.73809699,\n",
              "       15.25399485, 15.7698927 , 16.28579056, 16.80168841, 17.31758627,\n",
              "       17.83348412, 18.34938198, 18.86527983, 19.38117769, 19.89707555,\n",
              "       20.4129734 , 20.92887126, 21.44476911, 21.96066697, 22.47656482,\n",
              "       22.99246268, 23.50836053, 24.02425839, 24.54015625, 25.0560541 ,\n",
              "       25.57195196, 26.08784981, 26.60374767, 27.11964552, 27.63554338])"
            ]
          },
          "metadata": {},
          "execution_count": 110
        }
      ]
    },
    {
      "cell_type": "code",
      "source": [
        "plt.scatter(x, y)\n",
        "plt.xlabel(\"Adj Close IPC\")\n",
        "plt.ylabel(\"Adj Close ALFAA\")\n",
        "plt.plot(xfit, yfit);\n",
        "plt.show()"
      ],
      "metadata": {
        "colab": {
          "base_uri": "https://localhost:8080/",
          "height": 279
        },
        "id": "cZ41hy00NsSW",
        "outputId": "725bc129-a30f-412e-a300-7dbd5f22291a"
      },
      "execution_count": 111,
      "outputs": [
        {
          "output_type": "display_data",
          "data": {
            "text/plain": [
              "<Figure size 432x288 with 1 Axes>"
            ],
            "image/png": "[encoded data removed]"
          },
          "metadata": {
            "needs_background": "light"
          }
        }
      ]
    },
    {
      "cell_type": "markdown",
      "source": [
        "FUNCION\n",
        "y = 0.00033705x + 2.3568867207643507"
      ],
      "metadata": {
        "id": "NZXske7dQ_pB"
      }
    },
    {
      "cell_type": "code",
      "source": [
        "import sklearn.metrics\n",
        "y = np.array(y)"
      ],
      "metadata": {
        "id": "Urq1Po1wWZ3s"
      },
      "execution_count": 164,
      "outputs": []
    },
    {
      "cell_type": "code",
      "source": [
        "y[:59]"
      ],
      "metadata": {
        "colab": {
          "base_uri": "https://localhost:8080/"
        },
        "id": "hlTOPOVkXMZu",
        "outputId": "8afa216a-899e-41ff-f3e3-a14c829eaa75"
      },
      "execution_count": 167,
      "outputs": [
        {
          "output_type": "execute_result",
          "data": {
            "text/plain": [
              "array([26.76594543, 25.41083336, 27.10224915, 25.62107277, 26.6609726 ,\n",
              "       25.57155228, 24.44252396, 24.78915787, 22.76878166, 19.83726883,\n",
              "       20.57014656, 21.41196823, 23.1352253 , 22.17456055, 23.09901237,\n",
              "       23.81310654, 20.31205177, 22.91057014, 25.15203476, 24.92391968,\n",
              "       23.93212318, 21.23442841, 20.29221725, 23.18827438, 23.87261391,\n",
              "       21.77000237, 20.46082306, 19.02134895, 17.76053429, 18.72351837,\n",
              "       16.47987175, 16.99610901, 17.20458984, 16.57866096, 15.26668072,\n",
              "       15.90279198, 14.10378933, 12.49363136,  6.36111736,  9.81540775,\n",
              "       11.68690586, 12.89143467, 11.98554993, 14.00636864, 13.6479969 ,\n",
              "       14.10591698, 15.83804798, 14.31496716, 12.84621906, 11.34251499,\n",
              "       11.7508049 , 14.11092472, 13.94535255, 14.922925  , 15.12242889,\n",
              "       14.0650568 , 14.27453613, 14.87304878, 15.29200745])"
            ]
          },
          "metadata": {},
          "execution_count": 167
        }
      ]
    },
    {
      "cell_type": "code",
      "source": [
        "sklearn.metrics.mean_squared_error(y[:50], yfit)"
      ],
      "metadata": {
        "colab": {
          "base_uri": "https://localhost:8080/"
        },
        "id": "HR-JtzBIW0OF",
        "outputId": "6acd0d16-bdd7-441e-b945-f9ef02ce1ea0"
      },
      "execution_count": 169,
      "outputs": [
        {
          "output_type": "execute_result",
          "data": {
            "text/plain": [
              "168.59838056529222"
            ]
          },
          "metadata": {},
          "execution_count": 169
        }
      ]
    },
    {
      "cell_type": "markdown",
      "source": [
        "SE PUEDE OBSERVAR QUE HAY UNA RELACION CRECIENTE, PERO NO MU SIGNIFICATIVA, DEBIDO A QUE SE OBSERVA QUE LA MAYORIA DE LOS PUNTOS ESTAN ALEJADOS DE LA LINEA DE REGRESIÓN. DE IGUAL MANERA SE PUEDE VER QUE NO HAY UNA GRAN ACERTIVIDAD EN LA REGRESIÓN POR EL MSE QUE ES DE 168"
      ],
      "metadata": {
        "id": "NXDmCYa0UUdR"
      }
    },
    {
      "cell_type": "code",
      "source": [
        "ALFAA_r = np.log(ALFAA['Adj Close']) - np.log(ALFAA['Adj Close'].shift(1))\n",
        "IPC_r = np.log(IPC['Adj Close']) - np.log(IPC['Adj Close'].shift(1))"
      ],
      "metadata": {
        "id": "HmH9GnWOO9tZ"
      },
      "execution_count": 112,
      "outputs": []
    },
    {
      "cell_type": "code",
      "source": [
        "xr =  ALFAA_r.loc[ALFAA_r.notna()]\n",
        "yr = IPC_r.loc[IPC_r.notna()]"
      ],
      "metadata": {
        "id": "pqHDTdSpSDG4"
      },
      "execution_count": 133,
      "outputs": []
    },
    {
      "cell_type": "code",
      "source": [
        "modelr = LinearRegression(fit_intercept=True)\n",
        "modelr"
      ],
      "metadata": {
        "colab": {
          "base_uri": "https://localhost:8080/"
        },
        "id": "aI2lsvO8SC8F",
        "outputId": "7a9ad916-a686-488a-e498-c1a9af1aca03"
      },
      "execution_count": 134,
      "outputs": [
        {
          "output_type": "execute_result",
          "data": {
            "text/plain": [
              "LinearRegression()"
            ]
          },
          "metadata": {},
          "execution_count": 134
        }
      ]
    },
    {
      "cell_type": "code",
      "source": [
        "Xr = xr[:, np.newaxis]\n",
        "Xr.shape"
      ],
      "metadata": {
        "colab": {
          "base_uri": "https://localhost:8080/"
        },
        "id": "UiFNLVq2Saq5",
        "outputId": "02ab38c1-2425-446e-a0e3-74d3e5765f05"
      },
      "execution_count": 135,
      "outputs": [
        {
          "output_type": "stream",
          "name": "stderr",
          "text": [
            "/usr/local/lib/python3.7/dist-packages/ipykernel_launcher.py:1: FutureWarning: Support for multi-dimensional indexing (e.g. `obj[:, None]`) is deprecated and will be removed in a future version.  Convert to a numpy array before indexing instead.\n",
            "  \"\"\"Entry point for launching an IPython kernel.\n"
          ]
        },
        {
          "output_type": "execute_result",
          "data": {
            "text/plain": [
              "(68, 1)"
            ]
          },
          "metadata": {},
          "execution_count": 135
        }
      ]
    },
    {
      "cell_type": "code",
      "source": [
        "Xr"
      ],
      "metadata": {
        "colab": {
          "base_uri": "https://localhost:8080/"
        },
        "id": "ycX0vJGET0nu",
        "outputId": "1bdd78f3-6767-4bb9-a4b2-a8f84dddd58a"
      },
      "execution_count": 136,
      "outputs": [
        {
          "output_type": "execute_result",
          "data": {
            "text/plain": [
              "array([[-5.19547935e-02],\n",
              "       [ 6.44411255e-02],\n",
              "       [-5.62015508e-02],\n",
              "       [ 3.97856276e-02],\n",
              "       [-4.17203011e-02],\n",
              "       [-4.51560939e-02],\n",
              "       [ 1.40819743e-02],\n",
              "       [-8.50160025e-02],\n",
              "       [-1.37827940e-01],\n",
              "       [ 3.62783960e-02],\n",
              "       [ 4.01092002e-02],\n",
              "       [ 7.74063318e-02],\n",
              "       [-4.24106501e-02],\n",
              "       [ 4.08441518e-02],\n",
              "       [ 3.04462616e-02],\n",
              "       [-1.59021731e-01],\n",
              "       [ 1.20383989e-01],\n",
              "       [ 9.33404158e-02],\n",
              "       [-9.11082624e-03],\n",
              "       [-4.06063492e-02],\n",
              "       [-1.19597777e-01],\n",
              "       [-4.53864198e-02],\n",
              "       [ 1.33409310e-01],\n",
              "       [ 2.90852039e-02],\n",
              "       [-9.21989564e-02],\n",
              "       [-6.20209965e-02],\n",
              "       [-7.29500099e-02],\n",
              "       [-6.85831567e-02],\n",
              "       [ 5.28015798e-02],\n",
              "       [-1.27640658e-01],\n",
              "       [ 3.08446937e-02],\n",
              "       [ 1.21917636e-02],\n",
              "       [-3.70598152e-02],\n",
              "       [-8.24436616e-02],\n",
              "       [ 4.08219670e-02],\n",
              "       [-1.20051182e-01],\n",
              "       [-1.21224485e-01],\n",
              "       [-6.75014976e-01],\n",
              "       [ 4.33749323e-01],\n",
              "       [ 1.74515687e-01],\n",
              "       [ 9.80940538e-02],\n",
              "       [-7.28613603e-02],\n",
              "       [ 1.55810377e-01],\n",
              "       [-2.59193650e-02],\n",
              "       [ 3.30015893e-02],\n",
              "       [ 1.15820792e-01],\n",
              "       [-1.01109501e-01],\n",
              "       [-1.08256112e-01],\n",
              "       [-1.24491477e-01],\n",
              "       [ 3.53636862e-02],\n",
              "       [ 1.83027560e-01],\n",
              "       [-1.18029977e-02],\n",
              "       [ 6.77523183e-02],\n",
              "       [ 1.32803782e-02],\n",
              "       [-7.24855186e-02],\n",
              "       [ 1.47837796e-02],\n",
              "       [ 4.10735086e-02],\n",
              "       [ 2.77795342e-02],\n",
              "       [-2.04289853e-02],\n",
              "       [-6.66015109e-04],\n",
              "       [ 2.17471176e-02],\n",
              "       [-1.51070334e-02],\n",
              "       [-9.76717302e-02],\n",
              "       [ 1.00814707e-01],\n",
              "       [-5.71584250e-02],\n",
              "       [-1.90885615e-02],\n",
              "       [ 1.97886126e-02],\n",
              "       [-2.80308256e-03]])"
            ]
          },
          "metadata": {},
          "execution_count": 136
        }
      ]
    },
    {
      "cell_type": "code",
      "source": [
        "modelr.fit(Xr, yr)"
      ],
      "metadata": {
        "colab": {
          "base_uri": "https://localhost:8080/"
        },
        "id": "h5Tyc3OpSe4f",
        "outputId": "36e48952-67f2-4702-ad35-f12e4c98c78f"
      },
      "execution_count": 137,
      "outputs": [
        {
          "output_type": "execute_result",
          "data": {
            "text/plain": [
              "LinearRegression()"
            ]
          },
          "metadata": {},
          "execution_count": 137
        }
      ]
    },
    {
      "cell_type": "code",
      "source": [
        "modelr.coef_ # This is the parameter value"
      ],
      "metadata": {
        "colab": {
          "base_uri": "https://localhost:8080/"
        },
        "id": "WT1B7OyNSCu0",
        "outputId": "5ccfb3df-7aa0-4531-c221-233babef3ff9"
      },
      "execution_count": 138,
      "outputs": [
        {
          "output_type": "execute_result",
          "data": {
            "text/plain": [
              "array([0.22592584])"
            ]
          },
          "metadata": {},
          "execution_count": 138
        }
      ]
    },
    {
      "cell_type": "code",
      "source": [
        "modelr.intercept_ # This is the bias value"
      ],
      "metadata": {
        "colab": {
          "base_uri": "https://localhost:8080/"
        },
        "id": "moI7SxNCSRQc",
        "outputId": "da84c571-e0e6-4e3b-f902-436460579a4e"
      },
      "execution_count": 139,
      "outputs": [
        {
          "output_type": "execute_result",
          "data": {
            "text/plain": [
              "0.002625563278741477"
            ]
          },
          "metadata": {},
          "execution_count": 139
        }
      ]
    },
    {
      "cell_type": "code",
      "source": [
        "xrfit = np.linspace(-1, 10)\n",
        "xrfit"
      ],
      "metadata": {
        "colab": {
          "base_uri": "https://localhost:8080/"
        },
        "id": "91qsy_Z9SX6_",
        "outputId": "b796f612-c76e-47d7-90f7-b51f11827d9a"
      },
      "execution_count": 140,
      "outputs": [
        {
          "output_type": "execute_result",
          "data": {
            "text/plain": [
              "array([-1.        , -0.7755102 , -0.55102041, -0.32653061, -0.10204082,\n",
              "        0.12244898,  0.34693878,  0.57142857,  0.79591837,  1.02040816,\n",
              "        1.24489796,  1.46938776,  1.69387755,  1.91836735,  2.14285714,\n",
              "        2.36734694,  2.59183673,  2.81632653,  3.04081633,  3.26530612,\n",
              "        3.48979592,  3.71428571,  3.93877551,  4.16326531,  4.3877551 ,\n",
              "        4.6122449 ,  4.83673469,  5.06122449,  5.28571429,  5.51020408,\n",
              "        5.73469388,  5.95918367,  6.18367347,  6.40816327,  6.63265306,\n",
              "        6.85714286,  7.08163265,  7.30612245,  7.53061224,  7.75510204,\n",
              "        7.97959184,  8.20408163,  8.42857143,  8.65306122,  8.87755102,\n",
              "        9.10204082,  9.32653061,  9.55102041,  9.7755102 , 10.        ])"
            ]
          },
          "metadata": {},
          "execution_count": 140
        }
      ]
    },
    {
      "cell_type": "code",
      "source": [
        "Xrfit = xrfit[:, np.newaxis]\n",
        "yrfit = model.predict(Xrfit)\n",
        "yrfit"
      ],
      "metadata": {
        "colab": {
          "base_uri": "https://localhost:8080/"
        },
        "id": "EtIT_GF3S1h-",
        "outputId": "81c70c16-b548-49ca-97ca-92fa94077a78"
      },
      "execution_count": 141,
      "outputs": [
        {
          "output_type": "execute_result",
          "data": {
            "text/plain": [
              "array([2.35654846, 2.35662412, 2.35669978, 2.35677545, 2.35685111,\n",
              "       2.35692678, 2.35700244, 2.3570781 , 2.35715377, 2.35722943,\n",
              "       2.3573051 , 2.35738076, 2.35745642, 2.35753209, 2.35760775,\n",
              "       2.35768342, 2.35775908, 2.35783474, 2.35791041, 2.35798607,\n",
              "       2.35806174, 2.3581374 , 2.35821306, 2.35828873, 2.35836439,\n",
              "       2.35844006, 2.35851572, 2.35859138, 2.35866705, 2.35874271,\n",
              "       2.35881838, 2.35889404, 2.3589697 , 2.35904537, 2.35912103,\n",
              "       2.3591967 , 2.35927236, 2.35934802, 2.35942369, 2.35949935,\n",
              "       2.35957502, 2.35965068, 2.35972634, 2.35980201, 2.35987767,\n",
              "       2.35995334, 2.360029  , 2.36010466, 2.36018033, 2.36025599])"
            ]
          },
          "metadata": {},
          "execution_count": 141
        }
      ]
    },
    {
      "cell_type": "code",
      "source": [
        "plt.scatter(xr, yr)\n",
        "plt.xlabel(\"Adj Close IPC_r\")\n",
        "plt.ylabel(\"Adj Close ALFAA_r\")\n",
        "plt.plot(xrfit, yrfit);\n",
        "plt.show()"
      ],
      "metadata": {
        "colab": {
          "base_uri": "https://localhost:8080/",
          "height": 280
        },
        "id": "ZJK1dKmmS5Us",
        "outputId": "21f4c717-42eb-4b02-a20f-2d4b7de7e15f"
      },
      "execution_count": 142,
      "outputs": [
        {
          "output_type": "display_data",
          "data": {
            "text/plain": [
              "<Figure size 432x288 with 1 Axes>"
            ],
            "image/png": "[encoded data removed]"
          },
          "metadata": {
            "needs_background": "light"
          }
        }
      ]
    },
    {
      "cell_type": "code",
      "source": [
        "!pip install researchpy"
      ],
      "metadata": {
        "colab": {
          "base_uri": "https://localhost:8080/"
        },
        "id": "DFi-pqVQP2Xw",
        "outputId": "b4c1f5fa-4407-4be8-ea79-1c546f80c41a"
      },
      "execution_count": 122,
      "outputs": [
        {
          "output_type": "stream",
          "name": "stdout",
          "text": [
            "Looking in indexes: https://pypi.org/simple, https://us-python.pkg.dev/colab-wheels/public/simple/\n",
            "Requirement already satisfied: researchpy in /usr/local/lib/python3.7/dist-packages (0.3.2)\n",
            "Requirement already satisfied: scipy in /usr/local/lib/python3.7/dist-packages (from researchpy) (1.7.3)\n",
            "Requirement already satisfied: statsmodels in /usr/local/lib/python3.7/dist-packages (from researchpy) (0.10.2)\n",
            "Requirement already satisfied: numpy in /usr/local/lib/python3.7/dist-packages (from researchpy) (1.21.6)\n",
            "Requirement already satisfied: pandas in /usr/local/lib/python3.7/dist-packages (from researchpy) (1.3.5)\n",
            "Requirement already satisfied: patsy in /usr/local/lib/python3.7/dist-packages (from researchpy) (0.5.2)\n",
            "Requirement already satisfied: python-dateutil>=2.7.3 in /usr/local/lib/python3.7/dist-packages (from pandas->researchpy) (2.8.2)\n",
            "Requirement already satisfied: pytz>=2017.3 in /usr/local/lib/python3.7/dist-packages (from pandas->researchpy) (2022.1)\n",
            "Requirement already satisfied: six>=1.5 in /usr/local/lib/python3.7/dist-packages (from python-dateutil>=2.7.3->pandas->researchpy) (1.15.0)\n"
          ]
        }
      ]
    },
    {
      "cell_type": "code",
      "source": [
        "import researchpy as rp\n",
        "# Using the ttest function from researchpy:\n",
        "rp.ttest(ALFAA_r,IPC_r,equal_variances=False)"
      ],
      "metadata": {
        "colab": {
          "base_uri": "https://localhost:8080/"
        },
        "id": "h9WT8MDjPwam",
        "outputId": "54151a04-fc20-4dc8-de3b-05a9428c19b2"
      },
      "execution_count": 123,
      "outputs": [
        {
          "output_type": "execute_result",
          "data": {
            "text/plain": [
              "(    Variable      N      Mean        SD        SE  95% Conf.  Interval\n",
              " 0  Adj Close   68.0 -0.009270  0.125454  0.015214  -0.039637  0.021096\n",
              " 1  Adj Close   68.0  0.000531  0.048396  0.005869  -0.011183  0.012246\n",
              " 2   combined  136.0 -0.004370  0.094856  0.008134  -0.020456  0.011717,\n",
              "                           Welch's t-test  results\n",
              " 0  Difference (Adj Close - Adj Close) =   -0.0098\n",
              " 1                  Degrees of freedom =   87.0916\n",
              " 2                                   t =   -0.6011\n",
              " 3               Two side test p value =    0.5494\n",
              " 4              Difference < 0 p value =    0.2747\n",
              " 5              Difference > 0 p value =    0.7253\n",
              " 6                           Cohen's d =   -0.1031\n",
              " 7                           Hedge's g =   -0.1025\n",
              " 8                       Glass's delta =   -0.0781\n",
              " 9                         Pearson's r =    0.0643)"
            ]
          },
          "metadata": {},
          "execution_count": 123
        }
      ]
    },
    {
      "cell_type": "markdown",
      "source": [
        "TANTO T VALUE COMO EL P VALUE NOS DICE QUE LA ACERTIVIDAD ES MUY POCA"
      ],
      "metadata": {
        "id": "xPjXQSjKXuIK"
      }
    }
  ]
}